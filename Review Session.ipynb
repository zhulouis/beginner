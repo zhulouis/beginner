{
 "cells": [
  {
   "cell_type": "markdown",
   "id": "924c00e4-5652-46ca-96ff-13f417c6e336",
   "metadata": {},
   "source": [
    "# DSCI 100 Review Session Worksheet"
   ]
  },
  {
   "cell_type": "markdown",
   "id": "6fdbb0d7-5aea-4453-992c-1d28a0118dcf",
   "metadata": {},
   "source": [
    ">## Authors: Johnson Chen, Lotus Wei & Omer Tahir"
   ]
  },
  {
   "cell_type": "markdown",
   "id": "ec72862d-4727-47be-a4f9-96a123022830",
   "metadata": {},
   "source": [
    "Disclaimer: This worksheet contains materials from the DSCI 100 weekly worksheets and tutorials as well as our personal notes."
   ]
  },
  {
   "cell_type": "markdown",
   "id": "018164b4-5eaf-438d-94c8-7d22e438838f",
   "metadata": {},
   "source": [
    "### Loading relevant packages for notebook"
   ]
  },
  {
   "cell_type": "code",
   "execution_count": 70,
   "id": "f7fe84bc-f067-48b1-84e9-1aa3c848949d",
   "metadata": {},
   "outputs": [],
   "source": [
    "library(tidyverse)\n",
    "library(readxl)\n",
    "library(DBI)\n",
    "library(dbplyr)\n",
    "library(RPostgres)\n",
    "options(repr.matrix.max.rows = 6) #limits output of dataframes to 6 rows"
   ]
  },
  {
   "cell_type": "markdown",
   "id": "79649c56-4213-4efc-96c7-02bfaaeb31a7",
   "metadata": {},
   "source": [
    "## Chapter 1: Intro to Data Science"
   ]
  },
  {
   "cell_type": "markdown",
   "id": "2ff30e57-9559-438d-b60f-415807b284c2",
   "metadata": {},
   "source": [
    "### 1.0 Important packages for chapter 1\n",
    "___"
   ]
  },
  {
   "cell_type": "markdown",
   "id": "a221e9db-c065-47c4-88a8-96f4959a1235",
   "metadata": {},
   "source": [
    "* `tidyverse`\n",
    "    * tidyverse is a meta package. A meta package is a package that contains several other packages as well.\n",
    "    * This package allows us to gain access to useful functions for reading and wrangling the data.\n",
    "    * Functions such as `filter()`, `select()` and `mutate()` are part of the tidyverse package."
   ]
  },
  {
   "cell_type": "markdown",
   "id": "0ecd26db-e00f-49f6-8f9a-b02e0bba166a",
   "metadata": {},
   "source": [
    "### 1.1 Basic functions used in data science and how they work\n",
    "___"
   ]
  },
  {
   "cell_type": "markdown",
   "id": "aab0d459-fc9e-4d5a-8752-4f1127f4e684",
   "metadata": {},
   "source": [
    "> **Remember that you can search up on how a function works by checking the R documentation for it online.**"
   ]
  },
  {
   "cell_type": "markdown",
   "id": "1c85f27b-375e-4dfb-96a0-4a58ac824b97",
   "metadata": {},
   "source": [
    "* `install.packages(\"package_name\")`\n",
    "    * This function is used to install new packages into your server (local or UBC's).\n",
    "    * Although R has its own built-in functions, we can also use functions that are stored in packages created by other R users.\n",
    "    * You only have to install a package once.\n",
    "    * Remember that after installing a package you still have to load it into your workspace to use its functions."
   ]
  },
  {
   "cell_type": "markdown",
   "id": "2f368afd-d154-4b91-8181-e09606c2869c",
   "metadata": {},
   "source": [
    "* `library(package_name)`\n",
    "    * This function is used to load packages into your workspace.\n",
    "    * Every time you use a new workspace/jupyter notebook, you will have to load the packages again to use them.\n",
    "    * Remember that you can only load packages that are already installed on your server (local or UBC's)."
   ]
  },
  {
   "cell_type": "markdown",
   "id": "d65f1432-0326-4eb7-9576-0b1709095c59",
   "metadata": {},
   "source": [
    "* `nrow(data_frame)`\n",
    "    * Computes the total number of rows in a data frame."
   ]
  },
  {
   "cell_type": "markdown",
   "id": "226dffde-5954-4b3a-9aec-2d7d04e9a836",
   "metadata": {},
   "source": [
    "* `ncol(data_frame)`\n",
    "    * Computes the total number of columns in a data frame."
   ]
  },
  {
   "cell_type": "markdown",
   "id": "a7c533ac-99e7-4aa0-bb8f-e148ce92a2c8",
   "metadata": {},
   "source": [
    "* `is.na(...)`\n",
    "    * Checks for missing (NA) values in a vector.\n",
    "    * Returns true/false for each value in the selected column or vector.\n",
    "    * If the value is NA, it returns TRUE otherwise it returns FALSE.\n",
    "    * You can use `!is.na()` to get TRUE for values that are NOT missing. This may be useful when filtering out for rows that do not have any missing values."
   ]
  },
  {
   "cell_type": "markdown",
   "id": "2c3a7c02-642c-4fa6-ab6d-ff86c518b962",
   "metadata": {},
   "source": [
    "* `head(n = ...)`\n",
    "    * Returns the n first rows data frame."
   ]
  },
  {
   "cell_type": "markdown",
   "id": "4c538905-f255-490c-b58f-17d11689a144",
   "metadata": {},
   "source": [
    "* `tail(n = ...)`\n",
    "    * Returns the n last rows of a data frame."
   ]
  },
  {
   "cell_type": "markdown",
   "id": "f9075c4a-2fab-4d01-8980-031b21dcecdc",
   "metadata": {},
   "source": [
    "* `slice(n, m, ...)`\n",
    "    * obtains the nth, mth and any other specified rows of the dataframe."
   ]
  },
  {
   "cell_type": "markdown",
   "id": "448d36e9-bde9-4860-a1c0-c81a4967775f",
   "metadata": {},
   "source": [
    "* `arrange(dataframe, col_name)`\n",
    "    * This function takes column names as input and orders the rows in the data frame in ascending order based on the values in the columns.\n",
    "  \n",
    "* `arrange(dataframe, desc(col_name))`\n",
    "    * This function takes column names as input and orders the rows in the data frame in descending order based on the values in the columns."
   ]
  },
  {
   "cell_type": "markdown",
   "id": "cd33ab76-f1dd-4c32-93e3-cd3a179816eb",
   "metadata": {},
   "source": [
    "### 1.2 Access R documentation via Jupyter\n",
    "___"
   ]
  },
  {
   "cell_type": "markdown",
   "id": "6467e0c4-f760-4ae9-b4e3-7f3dc675f7dd",
   "metadata": {},
   "source": [
    "* Insert `?` before the name of the function you want help with and R will provide you with its documentation.\n",
    "    * Eg. `?read_csv`"
   ]
  },
  {
   "cell_type": "markdown",
   "id": "fb16f9ef-47d8-487b-83d1-c1f2d47b857e",
   "metadata": {},
   "source": [
    "### 1.3 Filter, Select, Mutate workflow \n",
    "___"
   ]
  },
  {
   "cell_type": "markdown",
   "id": "2886c500-9617-4405-8c64-b732084b1285",
   "metadata": {},
   "source": [
    "> **These 3 functions are extremely useful to manipulate and wrangle data. We ALWAYS wrangle the data set before performing any kind of analyses..**"
   ]
  },
  {
   "cell_type": "markdown",
   "id": "9ee72fd9-3c42-4587-9131-3d4d4fc6b6cb",
   "metadata": {},
   "source": [
    "* `filter(data_frame, column_name == VALUE)`\n",
    "    * Filters and obtains the subset of rows with desired values from a data frame.\n",
    "    * The 1st argument requires you to input the data frame that you want to subset.\n",
    "    * The 2nd argument is the logical operator. The VALUE can be a string or integer. It filters out all the rows for which the logic is TRUE.\n",
    "    * You can use logical operators such as `==`, `!=`, `>=`, `<=`, `<` or `>`.\n",
    "    * Eg. `filter(df, !is.na(pct_vaccinated))`\n",
    "    * Eg. `filter(df, who_region != \"(WHO) Global\")`\n",
    "    * Eg. You could combine multiple filter statements into one single statement:  \n",
    "    `filter(df, !is.na(pct_vaccinated), who_region != \"(WHO) Global\")`  \n",
    "    * Eg. `filter(df, states %in% c(\"CA\", \"WA\", \"OR\"))` where `states` is a column with names of different states."
   ]
  },
  {
   "cell_type": "markdown",
   "id": "6c8c9b0e-07ed-4fd2-ab4f-55f04c693faa",
   "metadata": {},
   "source": [
    "* `select(data_frame, column_name_1, column_name_2, ...)`\n",
    "    * Select one or more columns from your dataset and transfer them into their own data frame."
   ]
  },
  {
   "cell_type": "markdown",
   "id": "348550b0-4106-4ac5-9054-2bd50d9fb83f",
   "metadata": {},
   "source": [
    "* `mutate(data_frame, new_column = transformation_formula)`\n",
    "    * Add columns to a dataset, typically by making use of existing columns to compute a new column.\n",
    "    * We can also use this function to manipulate the column itself.\n",
    "    * Eg. `mutate(data_frame, column_name = as.numeric(column_name))` can be used to convert the column type character to numerical.\n",
    "    * Eg. `mutate(data_frame, column_name = as_factor(column_name))` can be used to convert the column type character to factor (categorical). This is especially useful when using the `group_by()` function to group by categories.\n",
    "    * Eg. `mutate(data_frame, new_column = old_column * 10)` can be used to create a new column that has values 10 times that of the old column."
   ]
  },
  {
   "cell_type": "markdown",
   "id": "d9093ac5-6e0e-4e84-8c33-a3a6fc41cc67",
   "metadata": {},
   "source": [
    "## Chapter 2: Intro to Reading Data"
   ]
  },
  {
   "cell_type": "markdown",
   "id": "aa88a915-760f-424b-a145-f2968d199353",
   "metadata": {},
   "source": [
    "### 2.0 Important packages for chapter 2\n",
    "___"
   ]
  },
  {
   "cell_type": "markdown",
   "id": "71263b74-0f74-459c-8181-d8a8cfbc4f3a",
   "metadata": {},
   "source": [
    "* `readxl`\n",
    "    * readxl PACKAGE provides the `read_excel()` function to load a sheet from an excel file into R.\n",
    ">\n",
    "* `DBI`\n",
    "    * DBI PACKAGE provides `dbConnect()` function to connect to SQLite database.\n",
    "    * DBI PACKAGE provides `dbListTables()` function to list the tables in a database.\n",
    ">\n",
    "* `dbplyr`\n",
    "    * dbplyr PACKAGE provides `tbl()` function to help create a reference to a database table that is queriable.\n",
    "    * dbplyr PACKAGE provides `collect()` function to retrieve data from a database query and bring it into R.\n",
    ">\n",
    "* `RPostgres`\n",
    "    * RPostgress PACKAGE allows us to work on PostgreSQL databases."
   ]
  },
  {
   "cell_type": "markdown",
   "id": "67a32cd6-21a0-439c-bbba-b70bd8d8ecea",
   "metadata": {},
   "source": [
    "### 2.1 Absolute Path vs Relative Path\n",
    "___"
   ]
  },
  {
   "cell_type": "markdown",
   "id": "78b7b9f7-5443-419c-9193-6154c0eb0d17",
   "metadata": {},
   "source": [
    "> **In order to read a file into R, you have to use the path of that file as the argument for the `read_...()` functions. There are two types of paths: Absolute path and Relative path. Another way to read a file is by using a url as the argument for the `read_csv()` function.**"
   ]
  },
  {
   "cell_type": "markdown",
   "id": "289bb3c5-20bf-4d4a-b466-c9b0f3ccfecd",
   "metadata": {},
   "source": [
    "* RELATIVE PATH\n",
    "    * Where the file is with respect to the folder you currently are in on the computer.\n",
    "    * Eg. `read_csv(\"data/happiness_report.csv\")`\n",
    ">\n",
    "* ABSOLUTE PATH\n",
    "    * Where the file is in respect to the base (or root) folder of the computer’s filesystem.\n",
    "    * **Always starts with `/`.**\n",
    "    * Eg. `read_csv(\"/home/jupyter/dsci-100/worksheet_02/data/happiness_report.csv\")`"
   ]
  },
  {
   "cell_type": "markdown",
   "id": "1978aefd-c63f-4068-96a5-89b6ef69ac76",
   "metadata": {},
   "source": [
    "### 2.2 Read delimited files (including csv & tsv) into a tibble\n",
    "___"
   ]
  },
  {
   "cell_type": "markdown",
   "id": "220e6208-150a-4441-a33c-51c8ec3d9655",
   "metadata": {},
   "source": [
    "* `read_delim(\"data/...\", delim = \"...\", skip = ..., col_names = TRUE)`\n",
    "    * The 1st argument requires you to input the path or file name.\n",
    "    * The 2nd argument, delim, specifies which delimiter to use. (eg. `\"/t\"` or `\" \"` or `\",\"` or `\";\"`)\n",
    "    * The 3rd argument, skip, specifies the lines which must be skipped. This may be because these lines are metadata. (eg. `skip = 2`)\n",
    "    * The 4th argument, col_names, is FALSE only if there is no HEADER. It is TRUE by default."
   ]
  },
  {
   "cell_type": "markdown",
   "id": "f0300732-31f8-4c54-a769-5760b532ce29",
   "metadata": {},
   "source": [
    "* `read_csv(...)`\n",
    "    * loads dataset in \"comma separated values\" format as a data frame object."
   ]
  },
  {
   "cell_type": "markdown",
   "id": "d32ee89d-4d94-475a-bbb2-20e21842a49e",
   "metadata": {},
   "source": [
    "* `read_csv2(...)`\n",
    "    * uses `;` as delimiter and `,` for the decimal point otherwise same as read_csv()."
   ]
  },
  {
   "cell_type": "markdown",
   "id": "978b0cbf-0853-4dc7-9cef-1c15f9aa99b3",
   "metadata": {},
   "source": [
    "* `read_tsv(...)`\n",
    "    * loads dataset in \"tab separated values\" format as a data frame object."
   ]
  },
  {
   "cell_type": "markdown",
   "id": "8a0e24f1-06e6-4623-bb9a-d7551ab52366",
   "metadata": {},
   "source": [
    "* `read_excel(...)`\n",
    "    * loads dataset in \"xlsx\" format as a data frame object."
   ]
  },
  {
   "cell_type": "markdown",
   "id": "91ec77b4-e64c-4b25-8c4e-33c2fbee18be",
   "metadata": {},
   "source": [
    "* `read_csv(\"url\")`\n",
    "    * Reads tabular data directly from a URL that contains tabular data.\n",
    "\t* Eg. `read_csv(\"https://raw.githubusercontent.com/UBC-DSCI/introduction-to-datascience/master/data/can_lang.csv\")`"
   ]
  },
  {
   "cell_type": "markdown",
   "id": "89a020da-6a17-4f8e-805e-eef36acd93d7",
   "metadata": {},
   "source": [
    "### 2.2.1 Read delimited files exercise\n",
    "___"
   ]
  },
  {
   "cell_type": "markdown",
   "id": "d6dd25e4-4c0e-42d2-af49-29d9e29edc22",
   "metadata": {},
   "source": [
    "> **Note:** When reading files into R you need to check:\n",
    "> 1) The file type i.e `.csv` or `.xlsx` file\n",
    "> 2) In the case it is a `.csv` file, you have to further inspect the format of the file to read it properly. You do this by right clicking the file -> Open With -> Editor.\n"
   ]
  },
  {
   "cell_type": "markdown",
   "id": "96abcf1b-13a3-4f60-a3a3-e52764992742",
   "metadata": {},
   "source": [
    "|File Name                       | delim      | Header | Metadata | skip               | read_*   |\n",
    "|--------------------------------|------------|--------|----------|--------------------|----------|\n",
    "|`_.csv`                         |`\";\"`, `\",\"`, `\"\\\"`, or `\"tab\"`|`\"yes\"`or `\"no\"`|`\"yes\"`or `\"no\"`|`NA` or # of lines|`read_*`|\n",
    "|`happiness_report.csv`          |,           |yes     |no        |`NA`                  |`read_csv`  |\n",
    "|`happiness_report_semicolon.csv`|;           |yes     |no        |`NA`                  |read_csv2 |\n",
    "|`happiness_report.tsv`          |tab         |yes     |no        |`NA`                  |`read_tsv`  |\n",
    "|`happiness_report_metadata.csv` |,           |yes     |yes       |2                   |`read_csv`  |\n",
    "|`happiness_report_no_header.csv`|,           |no      |no      |`NA`                  |`read_csv`  |\n",
    "|`happiness_report.xlsx`         |            |        |          |                    |`read_excel`|"
   ]
  },
  {
   "cell_type": "markdown",
   "id": "3e2d927a-9577-41e7-a600-407d7926ab62",
   "metadata": {},
   "source": [
    "### 2.2.2 Opening URL with `read_excel(...)` package\n",
    "___"
   ]
  },
  {
   "cell_type": "markdown",
   "id": "c678d7a2-4453-45df-bfe4-28635dde37f5",
   "metadata": {},
   "source": [
    "```\n",
    "library(readxl)\n",
    "\n",
    "download.file(\"url\", destfile = \"data/Test.xls\")\n",
    "df <- read_excel(path = \"data/Test.xls\", sheet = 1)\n",
    "colnames(df) <- make.names(colnames(df))\n",
    "```"
   ]
  },
  {
   "cell_type": "markdown",
   "id": "d696578a-262c-44ef-9e1e-1ee70a589f47",
   "metadata": {},
   "source": [
    "> 1. `download.file()` downloads the file and writes it to disk\n",
    "> 2. `read_excel()` reads that saved Excel file into R.\n",
    "> 3. `make.names(...)` replaces all spaces with a . so that you can operate on the columns."
   ]
  },
  {
   "cell_type": "markdown",
   "id": "05939d32-9829-46e3-b788-46d20129ba38",
   "metadata": {},
   "source": [
    "### 2.3 Connecting to a database in R\n",
    "___"
   ]
  },
  {
   "cell_type": "markdown",
   "id": "d98a3915-5ef3-4350-a6b6-8f99910c117b",
   "metadata": {},
   "source": [
    "```\n",
    "connection <- dbConnect(RSQLite::SQLite(), \"...\")\t\t\t\t# replace ... with the database relative path\n",
    "dbListTables(connection)\t\t\t\t\t\t\t\t\t\t# gives the names of the tables present in the db\n",
    "flight_data <- tbl(connection, \"bos_flights\")\t\t\t\t\t# assigns the \"bos_flight\" table to the reference object\n",
    "head(flight_data)\t\t\t\t\t\t\t\t\t\t\t\t# shows first few rows of data\n",
    "delay_data <- select(flight_data, ARRIVAL_DELAY, DEPARTURE_DELAY)\n",
    "delay_dataframe <- collect(delay_data)\t\t\t\t\t\t\t# downloads the transformed dataset\n",
    "write_csv(delay_dataframe, \"data/delay_data.csv\")\t\t\t\t# saves the downloaded dataset into designated path\n",
    "```"
   ]
  },
  {
   "cell_type": "markdown",
   "id": "d00703fb-e519-48d5-a886-23dea00f517a",
   "metadata": {},
   "source": [
    "> 1) Connect to the database using the `dbConnect()` function.\n",
    "> 2) Check what tables (similar to R dataframes, Excel spreadsheets) are in the database using the `dbListTables()` function\n",
    "> 3) Once you've picked a table, create an R object for it using the `tbl()` function\n",
    "   The code creates a reference to a table in a database, so we do not have to store all its data in R's memory but can load data as it is needed.\n",
    "   Creating a reference table allows us to use dplyr functions such as filter or select to explore the data.\n",
    "> 4) `head()` function allows us to see the first few rows of a dataset.\n",
    "> 5) Functions like `select()` and `filter()` DO work.\n",
    "> 6) Use the `collect()` function to download the transformed data from the database and store it in a dataframe object called `delay_dataframe`\n",
    "> 7) Use `write_csv()` function to write the dataframe to a file called `delay_data.csv`. Save the file in the `\"data/...\"` folder."
   ]
  },
  {
   "cell_type": "markdown",
   "id": "2be55af7-f6e7-4c25-8cb1-a579c7dee97a",
   "metadata": {},
   "source": [
    "> **Note:**\n",
    "> * some functions like `nrow()` (to count the rows) or `tail()` (to get the last rows of the table), won't work properly on databases.\n",
    "> * to make these functions work, first select the data you want to operate on and then download it as a data frame object using the `collect()` function."
   ]
  },
  {
   "cell_type": "markdown",
   "id": "b400b4f0-e92a-429d-a568-f6723d028c3e",
   "metadata": {},
   "source": [
    "### 2.3.1 Advantages of a database\n",
    "___"
   ]
  },
  {
   "cell_type": "markdown",
   "id": "bd5437a0-212a-4406-a525-530b9e6703ec",
   "metadata": {},
   "source": [
    "**1.** Enable storing large data sets across multiple computers with automatic redundancy and backups\n",
    "  \n",
    "**2.** Allow multiple users to access them simultaneously and remotely without conflicts and errors\n",
    "  \n",
    "**3.** Provide mechanisms for ensuring data integrity and validating input\n",
    "  \n",
    "**4.** Provide security to keep data safe For example, there are billions of Google searches conducted daily. Can you imagine if Google stored all of the data from those queries in a single .csv file!? Chaos would ensue!"
   ]
  },
  {
   "cell_type": "markdown",
   "id": "0a76fbbe-3186-42be-97cf-4ff0e1adad53",
   "metadata": {},
   "source": [
    "## Chapter 3: Cleaning and Wrangling Data"
   ]
  },
  {
   "cell_type": "markdown",
   "id": "b215e953-9d52-4b53-ae0d-6d72f754e05a",
   "metadata": {},
   "source": [
    "### 3.0 Important packages for chapter 3.0\n",
    "___"
   ]
  },
  {
   "cell_type": "markdown",
   "id": "57578dac-6784-4f67-8e6c-7cf96600f309",
   "metadata": {},
   "source": [
    "* `dplyr`\n",
    "    * Part of the `tidyverse` metapackage. (if you load tidyverse you do not need to load this package)\n",
    "    * This package is a data wrangling workhorse and provides functions like (`select`, `filter`, `mutate`, `arrange`, `summarize`, and `group_by`)"
   ]
  },
  {
   "cell_type": "markdown",
   "id": "412096f5-9257-4f64-9486-b0be13168390",
   "metadata": {},
   "source": [
    "* `purrr`\n",
    "    * Part of the `tidyverse` metapackage.\n",
    "    * It allows us to use the `map()` and `map_df()` functions."
   ]
  },
  {
   "cell_type": "markdown",
   "id": "d1303c78-af28-4a4f-81bd-be37749ffa1a",
   "metadata": {},
   "source": [
    "### 3.1 Criteria for TIDY DATA\n",
    "___"
   ]
  },
  {
   "cell_type": "markdown",
   "id": "385eea5f-e372-4305-a0c7-a4c87e696649",
   "metadata": {},
   "source": [
    "**1)** Each row is a single observation\n",
    "  \n",
    "**2)** Each column is a single variable\n",
    "  \n",
    "**3)** Each value is a single cell"
   ]
  },
  {
   "cell_type": "markdown",
   "id": "652ccfc0-66d5-4ab0-8312-c3c69342ec97",
   "metadata": {},
   "source": [
    "### 3.2 PIPE OPERATOR `|>`\n",
    "___"
   ]
  },
  {
   "cell_type": "markdown",
   "id": "b359f913-1cd0-4c23-8a40-4bb468a2c61a",
   "metadata": {},
   "source": [
    "* It takes the output from the function on the left-hand side of the pipe, and passes it as the first argument to the function on the right-hand side of the pipe.\n",
    "\n",
    "```{r}\n",
    "output <- data |>\n",
    "\tmutate(new_column = old_column * 2) |>\n",
    "\tfilter(other_column > 5) |>\n",
    "\tselect(new_column)\n",
    "```"
   ]
  },
  {
   "cell_type": "markdown",
   "id": "886ad9b5-fc9f-44e6-b42f-a91ea96accaf",
   "metadata": {},
   "source": [
    "### 3.3 `pivot_longer()` and `pivot_wider()` functions to help create TIDY DATA\n",
    "___"
   ]
  },
  {
   "cell_type": "markdown",
   "id": "8c3b7075-d070-42f1-b4f3-d8c14360c1bc",
   "metadata": {},
   "source": [
    "### 3.3.1 `pivot_longer()`"
   ]
  },
  {
   "cell_type": "markdown",
   "id": "f3928be3-f9a5-4b40-a72f-6c870eba9ac0",
   "metadata": {},
   "source": [
    "* `pivot_longer()` combines columns, thus making the data frame longer and narrower.\n",
    "* It is often used to combine columns that are really part of the same variable but currently stored in separate columns."
   ]
  },
  {
   "cell_type": "markdown",
   "id": "0397e64b-8395-4974-b659-8946ba76d041",
   "metadata": {},
   "source": [
    "```\n",
    "pivot_longer(dataframe,\n",
    "             cols = c(\"var1\", \"var2\", ...),\n",
    "             names_to = \"new_column_1\",\n",
    "             values_to = \"new_column_2\")\n",
    "             \n",
    "```\n",
    "* Input for 1st argument is the data frame\n",
    "* Input for 2nd arguement are the names of the variables that we want to combine into a single column.\n",
    "* Input for 3rd argument is the `new_column_1` that will be created, whose values will come from the **names** of the variables that we want to combine.\n",
    "* Input for 4th argument is the `new column_2` that will be created, whose values will come from the **values** of the variables that we want to combine."
   ]
  },
  {
   "cell_type": "code",
   "execution_count": 71,
   "id": "74966e0f-17c9-48ea-9886-afcc29f48d35",
   "metadata": {},
   "outputs": [
    {
     "name": "stderr",
     "output_type": "stream",
     "text": [
      "\u001b[1mRows: \u001b[22m\u001b[34m105\u001b[39m \u001b[1mColumns: \u001b[22m\u001b[34m13\u001b[39m\n",
      "\n",
      "\u001b[36m--\u001b[39m \u001b[1mColumn specification\u001b[22m \u001b[36m------------------------------------------------------------------------------------------------\u001b[39m\n",
      "\u001b[1mDelimiter:\u001b[22m \",\"\n",
      "\u001b[32mdbl\u001b[39m (13): Year, Jan, Feb, Mar, Apr, May, Jun, Jul, Aug, Sep, Oct, Nov, Dec\n",
      "\n",
      "\n",
      "\u001b[36mi\u001b[39m Use \u001b[30m\u001b[47m\u001b[30m\u001b[47m`spec()`\u001b[47m\u001b[30m\u001b[49m\u001b[39m to retrieve the full column specification for this data.\n",
      "\u001b[36mi\u001b[39m Specify the column types or set \u001b[30m\u001b[47m\u001b[30m\u001b[47m`show_col_types = FALSE`\u001b[47m\u001b[30m\u001b[49m\u001b[39m to quiet this message.\n",
      "\n"
     ]
    },
    {
     "data": {
      "text/html": [
       "<table class=\"dataframe\">\n",
       "<caption>A spec_tbl_df: 105 × 13</caption>\n",
       "<thead>\n",
       "\t<tr><th scope=col>Year</th><th scope=col>Jan</th><th scope=col>Feb</th><th scope=col>Mar</th><th scope=col>Apr</th><th scope=col>May</th><th scope=col>Jun</th><th scope=col>Jul</th><th scope=col>Aug</th><th scope=col>Sep</th><th scope=col>Oct</th><th scope=col>Nov</th><th scope=col>Dec</th></tr>\n",
       "\t<tr><th scope=col>&lt;dbl&gt;</th><th scope=col>&lt;dbl&gt;</th><th scope=col>&lt;dbl&gt;</th><th scope=col>&lt;dbl&gt;</th><th scope=col>&lt;dbl&gt;</th><th scope=col>&lt;dbl&gt;</th><th scope=col>&lt;dbl&gt;</th><th scope=col>&lt;dbl&gt;</th><th scope=col>&lt;dbl&gt;</th><th scope=col>&lt;dbl&gt;</th><th scope=col>&lt;dbl&gt;</th><th scope=col>&lt;dbl&gt;</th><th scope=col>&lt;dbl&gt;</th></tr>\n",
       "</thead>\n",
       "<tbody>\n",
       "\t<tr><td>1914</td><td>27.7</td><td>  NA</td><td>  NA</td><td>  NA</td><td>  NA</td><td>  NA</td><td>  NA</td><td>  NA</td><td>27.4</td><td>28.4</td><td>26.6</td><td>27.1</td></tr>\n",
       "\t<tr><td>1915</td><td>27.1</td><td>26.8</td><td>28.1</td><td>28.1</td><td>28.6</td><td>28.8</td><td>30.2</td><td>30.8</td><td>28.5</td><td>28.7</td><td>27.6</td><td>27.5</td></tr>\n",
       "\t<tr><td>1916</td><td>27.6</td><td>27.1</td><td>27.2</td><td>27.5</td><td>28.0</td><td>29.0</td><td>25.0</td><td>27.0</td><td>28.3</td><td>28.0</td><td>27.3</td><td>27.1</td></tr>\n",
       "\t<tr><td>⋮</td><td>⋮</td><td>⋮</td><td>⋮</td><td>⋮</td><td>⋮</td><td>⋮</td><td>⋮</td><td>⋮</td><td>⋮</td><td>⋮</td><td>⋮</td><td>⋮</td></tr>\n",
       "\t<tr><td>2016</td><td>27.8</td><td>26.4</td><td>26.1</td><td>26.8</td><td>26.5</td><td>26.4</td><td>26.0</td><td>27.6</td><td>27.6</td><td>28.5</td><td>24.7</td><td>27.3</td></tr>\n",
       "\t<tr><td>2017</td><td>28.0</td><td>27.9</td><td>28.2</td><td>26.1</td><td>26.7</td><td>26.9</td><td>25.4</td><td>26.7</td><td>27.6</td><td>28.7</td><td>27.7</td><td>27.4</td></tr>\n",
       "\t<tr><td>2018</td><td>27.3</td><td>27.3</td><td>29.0</td><td>29.3</td><td>  NA</td><td>  NA</td><td>  NA</td><td>  NA</td><td>  NA</td><td>  NA</td><td>  NA</td><td>  NA</td></tr>\n",
       "</tbody>\n",
       "</table>\n"
      ],
      "text/latex": [
       "A spec\\_tbl\\_df: 105 × 13\n",
       "\\begin{tabular}{lllllllllllll}\n",
       " Year & Jan & Feb & Mar & Apr & May & Jun & Jul & Aug & Sep & Oct & Nov & Dec\\\\\n",
       " <dbl> & <dbl> & <dbl> & <dbl> & <dbl> & <dbl> & <dbl> & <dbl> & <dbl> & <dbl> & <dbl> & <dbl> & <dbl>\\\\\n",
       "\\hline\n",
       "\t 1914 & 27.7 &   NA &   NA &   NA &   NA &   NA &   NA &   NA & 27.4 & 28.4 & 26.6 & 27.1\\\\\n",
       "\t 1915 & 27.1 & 26.8 & 28.1 & 28.1 & 28.6 & 28.8 & 30.2 & 30.8 & 28.5 & 28.7 & 27.6 & 27.5\\\\\n",
       "\t 1916 & 27.6 & 27.1 & 27.2 & 27.5 & 28.0 & 29.0 & 25.0 & 27.0 & 28.3 & 28.0 & 27.3 & 27.1\\\\\n",
       "\t ⋮ & ⋮ & ⋮ & ⋮ & ⋮ & ⋮ & ⋮ & ⋮ & ⋮ & ⋮ & ⋮ & ⋮ & ⋮\\\\\n",
       "\t 2016 & 27.8 & 26.4 & 26.1 & 26.8 & 26.5 & 26.4 & 26.0 & 27.6 & 27.6 & 28.5 & 24.7 & 27.3\\\\\n",
       "\t 2017 & 28.0 & 27.9 & 28.2 & 26.1 & 26.7 & 26.9 & 25.4 & 26.7 & 27.6 & 28.7 & 27.7 & 27.4\\\\\n",
       "\t 2018 & 27.3 & 27.3 & 29.0 & 29.3 &   NA &   NA &   NA &   NA &   NA &   NA &   NA &   NA\\\\\n",
       "\\end{tabular}\n"
      ],
      "text/markdown": [
       "\n",
       "A spec_tbl_df: 105 × 13\n",
       "\n",
       "| Year &lt;dbl&gt; | Jan &lt;dbl&gt; | Feb &lt;dbl&gt; | Mar &lt;dbl&gt; | Apr &lt;dbl&gt; | May &lt;dbl&gt; | Jun &lt;dbl&gt; | Jul &lt;dbl&gt; | Aug &lt;dbl&gt; | Sep &lt;dbl&gt; | Oct &lt;dbl&gt; | Nov &lt;dbl&gt; | Dec &lt;dbl&gt; |\n",
       "|---|---|---|---|---|---|---|---|---|---|---|---|---|\n",
       "| 1914 | 27.7 |   NA |   NA |   NA |   NA |   NA |   NA |   NA | 27.4 | 28.4 | 26.6 | 27.1 |\n",
       "| 1915 | 27.1 | 26.8 | 28.1 | 28.1 | 28.6 | 28.8 | 30.2 | 30.8 | 28.5 | 28.7 | 27.6 | 27.5 |\n",
       "| 1916 | 27.6 | 27.1 | 27.2 | 27.5 | 28.0 | 29.0 | 25.0 | 27.0 | 28.3 | 28.0 | 27.3 | 27.1 |\n",
       "| ⋮ | ⋮ | ⋮ | ⋮ | ⋮ | ⋮ | ⋮ | ⋮ | ⋮ | ⋮ | ⋮ | ⋮ | ⋮ |\n",
       "| 2016 | 27.8 | 26.4 | 26.1 | 26.8 | 26.5 | 26.4 | 26.0 | 27.6 | 27.6 | 28.5 | 24.7 | 27.3 |\n",
       "| 2017 | 28.0 | 27.9 | 28.2 | 26.1 | 26.7 | 26.9 | 25.4 | 26.7 | 27.6 | 28.7 | 27.7 | 27.4 |\n",
       "| 2018 | 27.3 | 27.3 | 29.0 | 29.3 |   NA |   NA |   NA |   NA |   NA |   NA |   NA |   NA |\n",
       "\n"
      ],
      "text/plain": [
       "    Year Jan  Feb  Mar  Apr  May  Jun  Jul  Aug  Sep  Oct  Nov  Dec \n",
       "1   1914 27.7   NA   NA   NA   NA   NA   NA   NA 27.4 28.4 26.6 27.1\n",
       "2   1915 27.1 26.8 28.1 28.1 28.6 28.8 30.2 30.8 28.5 28.7 27.6 27.5\n",
       "3   1916 27.6 27.1 27.2 27.5 28.0 29.0 25.0 27.0 28.3 28.0 27.3 27.1\n",
       "<U+22EE>   <U+22EE> <U+22EE> <U+22EE> <U+22EE> <U+22EE> <U+22EE> <U+22EE> <U+22EE> <U+22EE> <U+22EE> <U+22EE> <U+22EE> <U+22EE>\n",
       "103 2016 27.8 26.4 26.1 26.8 26.5 26.4 26.0 27.6 27.6 28.5 24.7 27.3\n",
       "104 2017 28.0 27.9 28.2 26.1 26.7 26.9 25.4 26.7 27.6 28.7 27.7 27.4\n",
       "105 2018 27.3 27.3 29.0 29.3   NA   NA   NA   NA   NA   NA   NA   NA"
      ]
     },
     "metadata": {},
     "output_type": "display_data"
    }
   ],
   "source": [
    "sea_surface <- read_csv(\"data/max_salinity.csv\")\n",
    "sea_surface"
   ]
  },
  {
   "cell_type": "code",
   "execution_count": 72,
   "id": "b7c9e52e-49d8-477a-87af-b74abcc81650",
   "metadata": {},
   "outputs": [
    {
     "data": {
      "text/html": [
       "<table class=\"dataframe\">\n",
       "<caption>A tibble: 315 × 3</caption>\n",
       "<thead>\n",
       "\t<tr><th scope=col>Year</th><th scope=col>Month</th><th scope=col>Salinity</th></tr>\n",
       "\t<tr><th scope=col>&lt;dbl&gt;</th><th scope=col>&lt;chr&gt;</th><th scope=col>&lt;dbl&gt;</th></tr>\n",
       "</thead>\n",
       "<tbody>\n",
       "\t<tr><td>1914</td><td>Dec</td><td>27.1</td></tr>\n",
       "\t<tr><td>1914</td><td>Jan</td><td>27.7</td></tr>\n",
       "\t<tr><td>1914</td><td>Feb</td><td>  NA</td></tr>\n",
       "\t<tr><td>⋮</td><td>⋮</td><td>⋮</td></tr>\n",
       "\t<tr><td>2018</td><td>Dec</td><td>  NA</td></tr>\n",
       "\t<tr><td>2018</td><td>Jan</td><td>27.3</td></tr>\n",
       "\t<tr><td>2018</td><td>Feb</td><td>27.3</td></tr>\n",
       "</tbody>\n",
       "</table>\n"
      ],
      "text/latex": [
       "A tibble: 315 × 3\n",
       "\\begin{tabular}{lll}\n",
       " Year & Month & Salinity\\\\\n",
       " <dbl> & <chr> & <dbl>\\\\\n",
       "\\hline\n",
       "\t 1914 & Dec & 27.1\\\\\n",
       "\t 1914 & Jan & 27.7\\\\\n",
       "\t 1914 & Feb &   NA\\\\\n",
       "\t ⋮ & ⋮ & ⋮\\\\\n",
       "\t 2018 & Dec &   NA\\\\\n",
       "\t 2018 & Jan & 27.3\\\\\n",
       "\t 2018 & Feb & 27.3\\\\\n",
       "\\end{tabular}\n"
      ],
      "text/markdown": [
       "\n",
       "A tibble: 315 × 3\n",
       "\n",
       "| Year &lt;dbl&gt; | Month &lt;chr&gt; | Salinity &lt;dbl&gt; |\n",
       "|---|---|---|\n",
       "| 1914 | Dec | 27.1 |\n",
       "| 1914 | Jan | 27.7 |\n",
       "| 1914 | Feb |   NA |\n",
       "| ⋮ | ⋮ | ⋮ |\n",
       "| 2018 | Dec |   NA |\n",
       "| 2018 | Jan | 27.3 |\n",
       "| 2018 | Feb | 27.3 |\n",
       "\n"
      ],
      "text/plain": [
       "    Year Month Salinity\n",
       "1   1914 Dec   27.1    \n",
       "2   1914 Jan   27.7    \n",
       "3   1914 Feb     NA    \n",
       "<U+22EE>   <U+22EE> <U+22EE> <U+22EE>\n",
       "313 2018 Dec     NA    \n",
       "314 2018 Jan   27.3    \n",
       "315 2018 Feb   27.3    "
      ]
     },
     "metadata": {},
     "output_type": "display_data"
    }
   ],
   "source": [
    "long_data <- sea_surface %>%\n",
    "       select(Year, Dec, Jan, Feb) |>\n",
    "       pivot_longer(cols = -Year,\n",
    "                    names_to = \"Month\",\n",
    "                    values_to = \"Salinity\") \n",
    "\n",
    "long_data"
   ]
  },
  {
   "cell_type": "markdown",
   "id": "ca8522a5-4ad1-4821-806f-955999280b82",
   "metadata": {},
   "source": [
    "### 3.3.2 `pivot_wider()`"
   ]
  },
  {
   "cell_type": "markdown",
   "id": "ac5ff07c-639e-4d8d-aabe-0f48d794e69e",
   "metadata": {},
   "source": [
    "* Suppose we have observations spread across multiple rows rather than in a single row.\n",
    "* `pivot_wider()` generally increases the number of columns (widens the data frame) and decreases the number of rows in a data set."
   ]
  },
  {
   "cell_type": "markdown",
   "id": "2be1ef97-c751-4caa-8aee-c4f0ec25490b",
   "metadata": {},
   "source": [
    "```\n",
    "pivot_wider(dataframe,\n",
    "            names_from = col_name_1,\n",
    "            values_from = col_name_2)\n",
    "```\n",
    "* Input for 1st argument is the data frame.\n",
    "* Input for 2nd argument is the name of the column from which to take the **variable names**.\n",
    "* Input for 3rd argument is the the name of the column from which to take the **values**."
   ]
  },
  {
   "cell_type": "code",
   "execution_count": 73,
   "id": "24fd7c41-c919-48ce-a13a-3df3afc24aa2",
   "metadata": {},
   "outputs": [
    {
     "data": {
      "text/html": [
       "<table class=\"dataframe\">\n",
       "<caption>A tibble: 105 × 4</caption>\n",
       "<thead>\n",
       "\t<tr><th scope=col>Year</th><th scope=col>Dec</th><th scope=col>Jan</th><th scope=col>Feb</th></tr>\n",
       "\t<tr><th scope=col>&lt;dbl&gt;</th><th scope=col>&lt;dbl&gt;</th><th scope=col>&lt;dbl&gt;</th><th scope=col>&lt;dbl&gt;</th></tr>\n",
       "</thead>\n",
       "<tbody>\n",
       "\t<tr><td>1914</td><td>27.1</td><td>27.7</td><td>  NA</td></tr>\n",
       "\t<tr><td>1915</td><td>27.5</td><td>27.1</td><td>26.8</td></tr>\n",
       "\t<tr><td>1916</td><td>27.1</td><td>27.6</td><td>27.1</td></tr>\n",
       "\t<tr><td>⋮</td><td>⋮</td><td>⋮</td><td>⋮</td></tr>\n",
       "\t<tr><td>2016</td><td>27.3</td><td>27.8</td><td>26.4</td></tr>\n",
       "\t<tr><td>2017</td><td>27.4</td><td>28.0</td><td>27.9</td></tr>\n",
       "\t<tr><td>2018</td><td>  NA</td><td>27.3</td><td>27.3</td></tr>\n",
       "</tbody>\n",
       "</table>\n"
      ],
      "text/latex": [
       "A tibble: 105 × 4\n",
       "\\begin{tabular}{llll}\n",
       " Year & Dec & Jan & Feb\\\\\n",
       " <dbl> & <dbl> & <dbl> & <dbl>\\\\\n",
       "\\hline\n",
       "\t 1914 & 27.1 & 27.7 &   NA\\\\\n",
       "\t 1915 & 27.5 & 27.1 & 26.8\\\\\n",
       "\t 1916 & 27.1 & 27.6 & 27.1\\\\\n",
       "\t ⋮ & ⋮ & ⋮ & ⋮\\\\\n",
       "\t 2016 & 27.3 & 27.8 & 26.4\\\\\n",
       "\t 2017 & 27.4 & 28.0 & 27.9\\\\\n",
       "\t 2018 &   NA & 27.3 & 27.3\\\\\n",
       "\\end{tabular}\n"
      ],
      "text/markdown": [
       "\n",
       "A tibble: 105 × 4\n",
       "\n",
       "| Year &lt;dbl&gt; | Dec &lt;dbl&gt; | Jan &lt;dbl&gt; | Feb &lt;dbl&gt; |\n",
       "|---|---|---|---|\n",
       "| 1914 | 27.1 | 27.7 |   NA |\n",
       "| 1915 | 27.5 | 27.1 | 26.8 |\n",
       "| 1916 | 27.1 | 27.6 | 27.1 |\n",
       "| ⋮ | ⋮ | ⋮ | ⋮ |\n",
       "| 2016 | 27.3 | 27.8 | 26.4 |\n",
       "| 2017 | 27.4 | 28.0 | 27.9 |\n",
       "| 2018 |   NA | 27.3 | 27.3 |\n",
       "\n"
      ],
      "text/plain": [
       "    Year Dec  Jan  Feb \n",
       "1   1914 27.1 27.7   NA\n",
       "2   1915 27.5 27.1 26.8\n",
       "3   1916 27.1 27.6 27.1\n",
       "<U+22EE>   <U+22EE> <U+22EE> <U+22EE> <U+22EE>\n",
       "103 2016 27.3 27.8 26.4\n",
       "104 2017 27.4 28.0 27.9\n",
       "105 2018   NA 27.3 27.3"
      ]
     },
     "metadata": {},
     "output_type": "display_data"
    }
   ],
   "source": [
    "wide_data <- long_data |> \n",
    "    pivot_wider(names_from = Month,\n",
    "                values_from = Salinity)\n",
    "\n",
    "wide_data"
   ]
  },
  {
   "cell_type": "markdown",
   "id": "eebfc64b-c831-48f2-b6ae-50a44a75792c",
   "metadata": {},
   "source": [
    "### 3.4 `separate()` function"
   ]
  },
  {
   "cell_type": "markdown",
   "id": "7f492ef6-e37e-4a60-a3c7-7b5f79487764",
   "metadata": {},
   "source": [
    "* `separate()` tidies data when multiple values are stored in the same cell.\n",
    "\n",
    "```\n",
    "separate(data_frame,\n",
    "    col = col_name,                       #(1)\n",
    "    into = c(\"col_name1\", \"col_name2\"),   #(2)\n",
    "    sep = \"/\")                            #(3)\n",
    "```\n",
    "\n",
    "* (1) The name of the column we need to split\n",
    "* (2) A character vector of the new column names we would like to put the split data into\n",
    "* (3) The separator on which to split"
   ]
  },
  {
   "cell_type": "code",
   "execution_count": 74,
   "id": "f1fd7186-1574-46a0-b305-e9ee3a523b9b",
   "metadata": {},
   "outputs": [
    {
     "data": {
      "text/html": [
       "<table class=\"dataframe\">\n",
       "<caption>A data.frame: 4 × 3</caption>\n",
       "<thead>\n",
       "\t<tr><th scope=col>Customer</th><th scope=col>Age</th><th scope=col>Contact</th></tr>\n",
       "\t<tr><th scope=col>&lt;chr&gt;</th><th scope=col>&lt;dbl&gt;</th><th scope=col>&lt;chr&gt;</th></tr>\n",
       "</thead>\n",
       "<tbody>\n",
       "\t<tr><td>Allen    </td><td>23</td><td>209-71953650312</td></tr>\n",
       "\t<tr><td>Tolinton </td><td>25</td><td>408-5182774863 </td></tr>\n",
       "\t<tr><td>Brusher  </td><td>34</td><td>18-9564277497  </td></tr>\n",
       "\t<tr><td>Dominique</td><td>29</td><td>11-8946428747  </td></tr>\n",
       "</tbody>\n",
       "</table>\n"
      ],
      "text/latex": [
       "A data.frame: 4 × 3\n",
       "\\begin{tabular}{lll}\n",
       " Customer & Age & Contact\\\\\n",
       " <chr> & <dbl> & <chr>\\\\\n",
       "\\hline\n",
       "\t Allen     & 23 & 209-71953650312\\\\\n",
       "\t Tolinton  & 25 & 408-5182774863 \\\\\n",
       "\t Brusher   & 34 & 18-9564277497  \\\\\n",
       "\t Dominique & 29 & 11-8946428747  \\\\\n",
       "\\end{tabular}\n"
      ],
      "text/markdown": [
       "\n",
       "A data.frame: 4 × 3\n",
       "\n",
       "| Customer &lt;chr&gt; | Age &lt;dbl&gt; | Contact &lt;chr&gt; |\n",
       "|---|---|---|\n",
       "| Allen     | 23 | 209-71953650312 |\n",
       "| Tolinton  | 25 | 408-5182774863  |\n",
       "| Brusher   | 34 | 18-9564277497   |\n",
       "| Dominique | 29 | 11-8946428747   |\n",
       "\n"
      ],
      "text/plain": [
       "  Customer  Age Contact        \n",
       "1 Allen     23  209-71953650312\n",
       "2 Tolinton  25  408-5182774863 \n",
       "3 Brusher   34  18-9564277497  \n",
       "4 Dominique 29  11-8946428747  "
      ]
     },
     "metadata": {},
     "output_type": "display_data"
    }
   ],
   "source": [
    "df <- data.frame(Customer = c('Allen', 'Tolinton', 'Brusher', 'Dominique'),\n",
    "                 Age = c(23, 25, 34, 29),\n",
    "                 Contact = c('209-71953650312', '408-5182774863', '18-9564277497', '11-8946428747'))\n",
    "\n",
    "df"
   ]
  },
  {
   "cell_type": "code",
   "execution_count": 75,
   "id": "8f201352-df73-49e1-9a6f-6172523b366c",
   "metadata": {},
   "outputs": [
    {
     "data": {
      "text/html": [
       "<table class=\"dataframe\">\n",
       "<caption>A data.frame: 4 × 4</caption>\n",
       "<thead>\n",
       "\t<tr><th scope=col>Customer</th><th scope=col>Age</th><th scope=col>Area Code</th><th scope=col>Phone</th></tr>\n",
       "\t<tr><th scope=col>&lt;chr&gt;</th><th scope=col>&lt;dbl&gt;</th><th scope=col>&lt;chr&gt;</th><th scope=col>&lt;chr&gt;</th></tr>\n",
       "</thead>\n",
       "<tbody>\n",
       "\t<tr><td>Allen    </td><td>23</td><td>209</td><td>71953650312</td></tr>\n",
       "\t<tr><td>Tolinton </td><td>25</td><td>408</td><td>5182774863 </td></tr>\n",
       "\t<tr><td>Brusher  </td><td>34</td><td>18 </td><td>9564277497 </td></tr>\n",
       "\t<tr><td>Dominique</td><td>29</td><td>11 </td><td>8946428747 </td></tr>\n",
       "</tbody>\n",
       "</table>\n"
      ],
      "text/latex": [
       "A data.frame: 4 × 4\n",
       "\\begin{tabular}{llll}\n",
       " Customer & Age & Area Code & Phone\\\\\n",
       " <chr> & <dbl> & <chr> & <chr>\\\\\n",
       "\\hline\n",
       "\t Allen     & 23 & 209 & 71953650312\\\\\n",
       "\t Tolinton  & 25 & 408 & 5182774863 \\\\\n",
       "\t Brusher   & 34 & 18  & 9564277497 \\\\\n",
       "\t Dominique & 29 & 11  & 8946428747 \\\\\n",
       "\\end{tabular}\n"
      ],
      "text/markdown": [
       "\n",
       "A data.frame: 4 × 4\n",
       "\n",
       "| Customer &lt;chr&gt; | Age &lt;dbl&gt; | Area Code &lt;chr&gt; | Phone &lt;chr&gt; |\n",
       "|---|---|---|---|\n",
       "| Allen     | 23 | 209 | 71953650312 |\n",
       "| Tolinton  | 25 | 408 | 5182774863  |\n",
       "| Brusher   | 34 | 18  | 9564277497  |\n",
       "| Dominique | 29 | 11  | 8946428747  |\n",
       "\n"
      ],
      "text/plain": [
       "  Customer  Age Area Code Phone      \n",
       "1 Allen     23  209       71953650312\n",
       "2 Tolinton  25  408       5182774863 \n",
       "3 Brusher   34  18        9564277497 \n",
       "4 Dominique 29  11        8946428747 "
      ]
     },
     "metadata": {},
     "output_type": "display_data"
    }
   ],
   "source": [
    "sep_df <- separate(df,\n",
    "         col = Contact,\n",
    "         into = c('Area Code', 'Phone'),\n",
    "         sep = '-')\n",
    "\n",
    "sep_df"
   ]
  },
  {
   "cell_type": "markdown",
   "id": "f548ada5-f701-4e66-a1f6-ce72bce0b7a6",
   "metadata": {},
   "source": [
    "### 3.5 Purr's `map()` function :\n",
    "___"
   ]
  },
  {
   "cell_type": "markdown",
   "id": "b5932a8e-2dfe-4acc-9450-8c1db710ad25",
   "metadata": {},
   "source": [
    "> * To apply same function to every column of the dataframe we use `map()` function.\n",
    "> * ***CONCEPT REFRESHER:***\n",
    "    * A **vector** is a way of storing many individual elements (a single number or a single character or string) of the same type together in a single object,\n",
    "    * A **data frame** is a way of storing many vectors of the same length but possibly of different types together in a single object\n",
    "    * A **list** is a way of storing many objects of any type (e.g. data frames, plots, vectors) together in a single object"
   ]
  },
  {
   "cell_type": "markdown",
   "id": "7a1db8d1-1b85-45a1-9c39-eb9cf9070dab",
   "metadata": {},
   "source": [
    "* `map(dataframe, function_name, na.rm = TRUE)`\n",
    "    * map takes two arguments, an object (a vector, data frame or list) that you want to apply the function to, and the function that you would like to apply.\n",
    "    * If `na.rm = FALSE`, then the NA values will not be ignored.\n",
    "    * This, however, returns an object of type list.\n",
    "  "
   ]
  },
  {
   "cell_type": "markdown",
   "id": "db55f50b-03f8-4c21-b352-944bc34befbd",
   "metadata": {},
   "source": [
    "* `map_df(dataframe, function_name, na.rm = TRUE)`\n",
    "    * Works exactly the same as `map()` the only difference being the returned type is dataframe."
   ]
  },
  {
   "cell_type": "code",
   "execution_count": 76,
   "id": "18ebd81f-05cc-4664-9b66-c77edeb02d75",
   "metadata": {},
   "outputs": [
    {
     "data": {
      "text/html": [
       "<table class=\"dataframe\">\n",
       "<caption>A data.frame: 32 × 11</caption>\n",
       "<thead>\n",
       "\t<tr><th></th><th scope=col>mpg</th><th scope=col>cyl</th><th scope=col>disp</th><th scope=col>hp</th><th scope=col>drat</th><th scope=col>wt</th><th scope=col>qsec</th><th scope=col>vs</th><th scope=col>am</th><th scope=col>gear</th><th scope=col>carb</th></tr>\n",
       "\t<tr><th></th><th scope=col>&lt;dbl&gt;</th><th scope=col>&lt;dbl&gt;</th><th scope=col>&lt;dbl&gt;</th><th scope=col>&lt;dbl&gt;</th><th scope=col>&lt;dbl&gt;</th><th scope=col>&lt;dbl&gt;</th><th scope=col>&lt;dbl&gt;</th><th scope=col>&lt;dbl&gt;</th><th scope=col>&lt;dbl&gt;</th><th scope=col>&lt;dbl&gt;</th><th scope=col>&lt;dbl&gt;</th></tr>\n",
       "</thead>\n",
       "<tbody>\n",
       "\t<tr><th scope=row>Mazda RX4</th><td>21.0</td><td>6</td><td>160</td><td>110</td><td>3.90</td><td>2.620</td><td>16.46</td><td>0</td><td>1</td><td>4</td><td>4</td></tr>\n",
       "\t<tr><th scope=row>Mazda RX4 Wag</th><td>21.0</td><td>6</td><td>160</td><td>110</td><td>3.90</td><td>2.875</td><td>17.02</td><td>0</td><td>1</td><td>4</td><td>4</td></tr>\n",
       "\t<tr><th scope=row>Datsun 710</th><td>22.8</td><td>4</td><td>108</td><td> 93</td><td>3.85</td><td>2.320</td><td>18.61</td><td>1</td><td>1</td><td>4</td><td>1</td></tr>\n",
       "\t<tr><th scope=row>⋮</th><td>⋮</td><td>⋮</td><td>⋮</td><td>⋮</td><td>⋮</td><td>⋮</td><td>⋮</td><td>⋮</td><td>⋮</td><td>⋮</td><td>⋮</td></tr>\n",
       "\t<tr><th scope=row>Ferrari Dino</th><td>19.7</td><td>6</td><td>145</td><td>175</td><td>3.62</td><td>2.77</td><td>15.5</td><td>0</td><td>1</td><td>5</td><td>6</td></tr>\n",
       "\t<tr><th scope=row>Maserati Bora</th><td>15.0</td><td>8</td><td>301</td><td>335</td><td>3.54</td><td>3.57</td><td>14.6</td><td>0</td><td>1</td><td>5</td><td>8</td></tr>\n",
       "\t<tr><th scope=row>Volvo 142E</th><td>21.4</td><td>4</td><td>121</td><td>109</td><td>4.11</td><td>2.78</td><td>18.6</td><td>1</td><td>1</td><td>4</td><td>2</td></tr>\n",
       "</tbody>\n",
       "</table>\n"
      ],
      "text/latex": [
       "A data.frame: 32 × 11\n",
       "\\begin{tabular}{r|lllllllllll}\n",
       "  & mpg & cyl & disp & hp & drat & wt & qsec & vs & am & gear & carb\\\\\n",
       "  & <dbl> & <dbl> & <dbl> & <dbl> & <dbl> & <dbl> & <dbl> & <dbl> & <dbl> & <dbl> & <dbl>\\\\\n",
       "\\hline\n",
       "\tMazda RX4 & 21.0 & 6 & 160 & 110 & 3.90 & 2.620 & 16.46 & 0 & 1 & 4 & 4\\\\\n",
       "\tMazda RX4 Wag & 21.0 & 6 & 160 & 110 & 3.90 & 2.875 & 17.02 & 0 & 1 & 4 & 4\\\\\n",
       "\tDatsun 710 & 22.8 & 4 & 108 &  93 & 3.85 & 2.320 & 18.61 & 1 & 1 & 4 & 1\\\\\n",
       "\t⋮ & ⋮ & ⋮ & ⋮ & ⋮ & ⋮ & ⋮ & ⋮ & ⋮ & ⋮ & ⋮ & ⋮\\\\\n",
       "\tFerrari Dino & 19.7 & 6 & 145 & 175 & 3.62 & 2.77 & 15.5 & 0 & 1 & 5 & 6\\\\\n",
       "\tMaserati Bora & 15.0 & 8 & 301 & 335 & 3.54 & 3.57 & 14.6 & 0 & 1 & 5 & 8\\\\\n",
       "\tVolvo 142E & 21.4 & 4 & 121 & 109 & 4.11 & 2.78 & 18.6 & 1 & 1 & 4 & 2\\\\\n",
       "\\end{tabular}\n"
      ],
      "text/markdown": [
       "\n",
       "A data.frame: 32 × 11\n",
       "\n",
       "| <!--/--> | mpg &lt;dbl&gt; | cyl &lt;dbl&gt; | disp &lt;dbl&gt; | hp &lt;dbl&gt; | drat &lt;dbl&gt; | wt &lt;dbl&gt; | qsec &lt;dbl&gt; | vs &lt;dbl&gt; | am &lt;dbl&gt; | gear &lt;dbl&gt; | carb &lt;dbl&gt; |\n",
       "|---|---|---|---|---|---|---|---|---|---|---|---|\n",
       "| Mazda RX4 | 21.0 | 6 | 160 | 110 | 3.90 | 2.620 | 16.46 | 0 | 1 | 4 | 4 |\n",
       "| Mazda RX4 Wag | 21.0 | 6 | 160 | 110 | 3.90 | 2.875 | 17.02 | 0 | 1 | 4 | 4 |\n",
       "| Datsun 710 | 22.8 | 4 | 108 |  93 | 3.85 | 2.320 | 18.61 | 1 | 1 | 4 | 1 |\n",
       "| ⋮ | ⋮ | ⋮ | ⋮ | ⋮ | ⋮ | ⋮ | ⋮ | ⋮ | ⋮ | ⋮ | ⋮ |\n",
       "| Ferrari Dino | 19.7 | 6 | 145 | 175 | 3.62 | 2.77 | 15.5 | 0 | 1 | 5 | 6 |\n",
       "| Maserati Bora | 15.0 | 8 | 301 | 335 | 3.54 | 3.57 | 14.6 | 0 | 1 | 5 | 8 |\n",
       "| Volvo 142E | 21.4 | 4 | 121 | 109 | 4.11 | 2.78 | 18.6 | 1 | 1 | 4 | 2 |\n",
       "\n"
      ],
      "text/plain": [
       "              mpg  cyl disp hp  drat wt    qsec  vs am gear carb\n",
       "Mazda RX4     21.0 6   160  110 3.90 2.620 16.46 0  1  4    4   \n",
       "Mazda RX4 Wag 21.0 6   160  110 3.90 2.875 17.02 0  1  4    4   \n",
       "Datsun 710    22.8 4   108   93 3.85 2.320 18.61 1  1  4    1   \n",
       "<U+22EE>             <U+22EE> <U+22EE> <U+22EE> <U+22EE> <U+22EE> <U+22EE> <U+22EE> <U+22EE> <U+22EE> <U+22EE> <U+22EE>\n",
       "Ferrari Dino  19.7 6   145  175 3.62 2.77  15.5  0  1  5    6   \n",
       "Maserati Bora 15.0 8   301  335 3.54 3.57  14.6  0  1  5    8   \n",
       "Volvo 142E    21.4 4   121  109 4.11 2.78  18.6  1  1  4    2   "
      ]
     },
     "metadata": {},
     "output_type": "display_data"
    }
   ],
   "source": [
    "mtcars"
   ]
  },
  {
   "cell_type": "code",
   "execution_count": 77,
   "id": "fe170f3a-eec9-44e8-b294-d6108450db71",
   "metadata": {},
   "outputs": [
    {
     "data": {
      "text/html": [
       "<table class=\"dataframe\">\n",
       "<caption>A tibble: 1 × 11</caption>\n",
       "<thead>\n",
       "\t<tr><th scope=col>mpg</th><th scope=col>cyl</th><th scope=col>disp</th><th scope=col>hp</th><th scope=col>drat</th><th scope=col>wt</th><th scope=col>qsec</th><th scope=col>vs</th><th scope=col>am</th><th scope=col>gear</th><th scope=col>carb</th></tr>\n",
       "\t<tr><th scope=col>&lt;dbl&gt;</th><th scope=col>&lt;dbl&gt;</th><th scope=col>&lt;dbl&gt;</th><th scope=col>&lt;dbl&gt;</th><th scope=col>&lt;dbl&gt;</th><th scope=col>&lt;dbl&gt;</th><th scope=col>&lt;dbl&gt;</th><th scope=col>&lt;dbl&gt;</th><th scope=col>&lt;dbl&gt;</th><th scope=col>&lt;dbl&gt;</th><th scope=col>&lt;dbl&gt;</th></tr>\n",
       "</thead>\n",
       "<tbody>\n",
       "\t<tr><td>20.09062</td><td>6.1875</td><td>230.7219</td><td>146.6875</td><td>3.596563</td><td>3.21725</td><td>17.84875</td><td>0.4375</td><td>0.40625</td><td>3.6875</td><td>2.8125</td></tr>\n",
       "</tbody>\n",
       "</table>\n"
      ],
      "text/latex": [
       "A tibble: 1 × 11\n",
       "\\begin{tabular}{lllllllllll}\n",
       " mpg & cyl & disp & hp & drat & wt & qsec & vs & am & gear & carb\\\\\n",
       " <dbl> & <dbl> & <dbl> & <dbl> & <dbl> & <dbl> & <dbl> & <dbl> & <dbl> & <dbl> & <dbl>\\\\\n",
       "\\hline\n",
       "\t 20.09062 & 6.1875 & 230.7219 & 146.6875 & 3.596563 & 3.21725 & 17.84875 & 0.4375 & 0.40625 & 3.6875 & 2.8125\\\\\n",
       "\\end{tabular}\n"
      ],
      "text/markdown": [
       "\n",
       "A tibble: 1 × 11\n",
       "\n",
       "| mpg &lt;dbl&gt; | cyl &lt;dbl&gt; | disp &lt;dbl&gt; | hp &lt;dbl&gt; | drat &lt;dbl&gt; | wt &lt;dbl&gt; | qsec &lt;dbl&gt; | vs &lt;dbl&gt; | am &lt;dbl&gt; | gear &lt;dbl&gt; | carb &lt;dbl&gt; |\n",
       "|---|---|---|---|---|---|---|---|---|---|---|\n",
       "| 20.09062 | 6.1875 | 230.7219 | 146.6875 | 3.596563 | 3.21725 | 17.84875 | 0.4375 | 0.40625 | 3.6875 | 2.8125 |\n",
       "\n"
      ],
      "text/plain": [
       "  mpg      cyl    disp     hp       drat     wt      qsec     vs     am     \n",
       "1 20.09062 6.1875 230.7219 146.6875 3.596563 3.21725 17.84875 0.4375 0.40625\n",
       "  gear   carb  \n",
       "1 3.6875 2.8125"
      ]
     },
     "metadata": {},
     "output_type": "display_data"
    }
   ],
   "source": [
    "max_vals <- map_df(mtcars, mean)\n",
    "max_vals"
   ]
  },
  {
   "cell_type": "markdown",
   "id": "c5b8f5df-b2ff-49a5-b52e-93357cd27e7a",
   "metadata": {},
   "source": [
    "  "
   ]
  },
  {
   "cell_type": "markdown",
   "id": "254fc7aa-70cd-49c1-bede-80df7220184b",
   "metadata": {},
   "source": [
    "### 3.6 Iterating over data with `group_by()` + `summarize()` :\n",
    "___"
   ]
  },
  {
   "cell_type": "markdown",
   "id": "4394d239-13f8-4660-9269-02573fe2a457",
   "metadata": {},
   "source": [
    "* This combination is used when you want to apply the same function to groups of rows.\n",
    "\n",
    "```\n",
    "group_by(dataframe, col_names) %>%\n",
    "\tsummarize(\n",
    "\t\tmin_col_name_1 = min(col_name1),\n",
    "\t\tmax_col_name_2 = max(col_name2),\n",
    "\t\ttotal_volume = mean(total_volume, na.rm = TRUE))\n",
    "```\n",
    "\n",
    "* `group_by()` takes an existing data set and converts it into a grouped data set where operations are performed \"by group\".\n",
    "* `summarize()` works analogous to the `mutate()` function except instead of adding columns to an existing data frame, it creates a new data frame. It is used specifically to calculate a summary statistic (ex. min, max, mean) for each group of rows created with `group_by`.\n",
    "* Pairing these functions together can let you summarize values for subgroups within a data set.\n",
    "* `group_by()` creates its own columns and `summarize()` creates its own columns which then both combine to form a dataset."
   ]
  },
  {
   "cell_type": "markdown",
   "id": "43e7bcf4-f5ef-4f1d-80dc-cd745755e8b0",
   "metadata": {},
   "source": [
    "### 3.7 Review Exercise\n",
    "___"
   ]
  },
  {
   "cell_type": "code",
   "execution_count": 78,
   "id": "3154e582-88aa-46f5-bfec-40b372c4f88d",
   "metadata": {},
   "outputs": [
    {
     "name": "stderr",
     "output_type": "stream",
     "text": [
      "\u001b[1mRows: \u001b[22m\u001b[34m51864\u001b[39m \u001b[1mColumns: \u001b[22m\u001b[34m17\u001b[39m\n",
      "\n",
      "\u001b[36m--\u001b[39m \u001b[1mColumn specification\u001b[22m \u001b[36m------------------------------------------------------------------------------------------------\u001b[39m\n",
      "\u001b[1mDelimiter:\u001b[22m \"\\t\"\n",
      "\u001b[31mchr\u001b[39m   (1): month\n",
      "\u001b[32mdbl\u001b[39m  (15): BEN, CO, EBE, MXY, NMHC, NO_2, NOx, OXY, O_3, PM10, PXY, SO_2, TC...\n",
      "\u001b[34mdttm\u001b[39m  (1): date\n",
      "\n",
      "\n",
      "\u001b[36mi\u001b[39m Use \u001b[30m\u001b[47m\u001b[30m\u001b[47m`spec()`\u001b[47m\u001b[30m\u001b[49m\u001b[39m to retrieve the full column specification for this data.\n",
      "\u001b[36mi\u001b[39m Specify the column types or set \u001b[30m\u001b[47m\u001b[30m\u001b[47m`show_col_types = FALSE`\u001b[47m\u001b[30m\u001b[49m\u001b[39m to quiet this message.\n",
      "\n"
     ]
    },
    {
     "data": {
      "text/html": [
       "<table class=\"dataframe\">\n",
       "<caption>A tibble: 6 × 17</caption>\n",
       "<thead>\n",
       "\t<tr><th scope=col>date</th><th scope=col>BEN</th><th scope=col>CO</th><th scope=col>EBE</th><th scope=col>MXY</th><th scope=col>NMHC</th><th scope=col>NO_2</th><th scope=col>NOx</th><th scope=col>OXY</th><th scope=col>O_3</th><th scope=col>PM10</th><th scope=col>PXY</th><th scope=col>SO_2</th><th scope=col>TCH</th><th scope=col>TOL</th><th scope=col>year</th><th scope=col>month</th></tr>\n",
       "\t<tr><th scope=col>&lt;dttm&gt;</th><th scope=col>&lt;dbl&gt;</th><th scope=col>&lt;dbl&gt;</th><th scope=col>&lt;dbl&gt;</th><th scope=col>&lt;dbl&gt;</th><th scope=col>&lt;dbl&gt;</th><th scope=col>&lt;dbl&gt;</th><th scope=col>&lt;dbl&gt;</th><th scope=col>&lt;dbl&gt;</th><th scope=col>&lt;dbl&gt;</th><th scope=col>&lt;dbl&gt;</th><th scope=col>&lt;dbl&gt;</th><th scope=col>&lt;dbl&gt;</th><th scope=col>&lt;dbl&gt;</th><th scope=col>&lt;dbl&gt;</th><th scope=col>&lt;dbl&gt;</th><th scope=col>&lt;chr&gt;</th></tr>\n",
       "</thead>\n",
       "<tbody>\n",
       "\t<tr><td>2001-08-01 01:00:00</td><td>1.50</td><td>0.34</td><td>1.49</td><td>4.10</td><td>0.07</td><td>56.25</td><td>75.17</td><td>2.11</td><td>42.16</td><td>100.60</td><td>1.73</td><td>8.11</td><td>1.24</td><td>10.82</td><td>2001</td><td>August</td></tr>\n",
       "\t<tr><td>2001-08-01 02:00:00</td><td>0.87</td><td>0.06</td><td>0.88</td><td>2.41</td><td>0.01</td><td>29.71</td><td>31.44</td><td>1.20</td><td>56.52</td><td> 56.29</td><td>1.02</td><td>6.90</td><td>1.17</td><td> 6.49</td><td>2001</td><td>August</td></tr>\n",
       "\t<tr><td>2001-08-01 03:00:00</td><td>0.66</td><td>0.02</td><td>0.61</td><td>1.60</td><td>0.01</td><td>22.75</td><td>22.46</td><td>0.80</td><td>64.06</td><td> 36.65</td><td>0.69</td><td>6.59</td><td>1.17</td><td> 6.37</td><td>2001</td><td>August</td></tr>\n",
       "\t<tr><td>2001-08-01 04:00:00</td><td>0.47</td><td>0.04</td><td>0.41</td><td>1.00</td><td>0.02</td><td>31.59</td><td>34.77</td><td>0.47</td><td>60.82</td><td> 25.82</td><td>0.44</td><td>6.45</td><td>1.21</td><td> 4.91</td><td>2001</td><td>August</td></tr>\n",
       "\t<tr><td>2001-08-01 05:00:00</td><td>0.60</td><td>0.04</td><td>0.67</td><td>1.68</td><td>0.01</td><td>30.94</td><td>32.51</td><td>0.74</td><td>65.56</td><td> 31.10</td><td>0.72</td><td>6.37</td><td>1.22</td><td> 5.28</td><td>2001</td><td>August</td></tr>\n",
       "\t<tr><td>2001-08-01 06:00:00</td><td>0.52</td><td>0.09</td><td>0.46</td><td>1.27</td><td>0.01</td><td>66.67</td><td>78.04</td><td>0.59</td><td>41.65</td><td> 26.64</td><td>0.57</td><td>7.20</td><td>1.40</td><td> 3.95</td><td>2001</td><td>August</td></tr>\n",
       "</tbody>\n",
       "</table>\n"
      ],
      "text/latex": [
       "A tibble: 6 × 17\n",
       "\\begin{tabular}{lllllllllllllllll}\n",
       " date & BEN & CO & EBE & MXY & NMHC & NO\\_2 & NOx & OXY & O\\_3 & PM10 & PXY & SO\\_2 & TCH & TOL & year & month\\\\\n",
       " <dttm> & <dbl> & <dbl> & <dbl> & <dbl> & <dbl> & <dbl> & <dbl> & <dbl> & <dbl> & <dbl> & <dbl> & <dbl> & <dbl> & <dbl> & <dbl> & <chr>\\\\\n",
       "\\hline\n",
       "\t 2001-08-01 01:00:00 & 1.50 & 0.34 & 1.49 & 4.10 & 0.07 & 56.25 & 75.17 & 2.11 & 42.16 & 100.60 & 1.73 & 8.11 & 1.24 & 10.82 & 2001 & August\\\\\n",
       "\t 2001-08-01 02:00:00 & 0.87 & 0.06 & 0.88 & 2.41 & 0.01 & 29.71 & 31.44 & 1.20 & 56.52 &  56.29 & 1.02 & 6.90 & 1.17 &  6.49 & 2001 & August\\\\\n",
       "\t 2001-08-01 03:00:00 & 0.66 & 0.02 & 0.61 & 1.60 & 0.01 & 22.75 & 22.46 & 0.80 & 64.06 &  36.65 & 0.69 & 6.59 & 1.17 &  6.37 & 2001 & August\\\\\n",
       "\t 2001-08-01 04:00:00 & 0.47 & 0.04 & 0.41 & 1.00 & 0.02 & 31.59 & 34.77 & 0.47 & 60.82 &  25.82 & 0.44 & 6.45 & 1.21 &  4.91 & 2001 & August\\\\\n",
       "\t 2001-08-01 05:00:00 & 0.60 & 0.04 & 0.67 & 1.68 & 0.01 & 30.94 & 32.51 & 0.74 & 65.56 &  31.10 & 0.72 & 6.37 & 1.22 &  5.28 & 2001 & August\\\\\n",
       "\t 2001-08-01 06:00:00 & 0.52 & 0.09 & 0.46 & 1.27 & 0.01 & 66.67 & 78.04 & 0.59 & 41.65 &  26.64 & 0.57 & 7.20 & 1.40 &  3.95 & 2001 & August\\\\\n",
       "\\end{tabular}\n"
      ],
      "text/markdown": [
       "\n",
       "A tibble: 6 × 17\n",
       "\n",
       "| date &lt;dttm&gt; | BEN &lt;dbl&gt; | CO &lt;dbl&gt; | EBE &lt;dbl&gt; | MXY &lt;dbl&gt; | NMHC &lt;dbl&gt; | NO_2 &lt;dbl&gt; | NOx &lt;dbl&gt; | OXY &lt;dbl&gt; | O_3 &lt;dbl&gt; | PM10 &lt;dbl&gt; | PXY &lt;dbl&gt; | SO_2 &lt;dbl&gt; | TCH &lt;dbl&gt; | TOL &lt;dbl&gt; | year &lt;dbl&gt; | month &lt;chr&gt; |\n",
       "|---|---|---|---|---|---|---|---|---|---|---|---|---|---|---|---|---|\n",
       "| 2001-08-01 01:00:00 | 1.50 | 0.34 | 1.49 | 4.10 | 0.07 | 56.25 | 75.17 | 2.11 | 42.16 | 100.60 | 1.73 | 8.11 | 1.24 | 10.82 | 2001 | August |\n",
       "| 2001-08-01 02:00:00 | 0.87 | 0.06 | 0.88 | 2.41 | 0.01 | 29.71 | 31.44 | 1.20 | 56.52 |  56.29 | 1.02 | 6.90 | 1.17 |  6.49 | 2001 | August |\n",
       "| 2001-08-01 03:00:00 | 0.66 | 0.02 | 0.61 | 1.60 | 0.01 | 22.75 | 22.46 | 0.80 | 64.06 |  36.65 | 0.69 | 6.59 | 1.17 |  6.37 | 2001 | August |\n",
       "| 2001-08-01 04:00:00 | 0.47 | 0.04 | 0.41 | 1.00 | 0.02 | 31.59 | 34.77 | 0.47 | 60.82 |  25.82 | 0.44 | 6.45 | 1.21 |  4.91 | 2001 | August |\n",
       "| 2001-08-01 05:00:00 | 0.60 | 0.04 | 0.67 | 1.68 | 0.01 | 30.94 | 32.51 | 0.74 | 65.56 |  31.10 | 0.72 | 6.37 | 1.22 |  5.28 | 2001 | August |\n",
       "| 2001-08-01 06:00:00 | 0.52 | 0.09 | 0.46 | 1.27 | 0.01 | 66.67 | 78.04 | 0.59 | 41.65 |  26.64 | 0.57 | 7.20 | 1.40 |  3.95 | 2001 | August |\n",
       "\n"
      ],
      "text/plain": [
       "  date                BEN  CO   EBE  MXY  NMHC NO_2  NOx   OXY  O_3   PM10  \n",
       "1 2001-08-01 01:00:00 1.50 0.34 1.49 4.10 0.07 56.25 75.17 2.11 42.16 100.60\n",
       "2 2001-08-01 02:00:00 0.87 0.06 0.88 2.41 0.01 29.71 31.44 1.20 56.52  56.29\n",
       "3 2001-08-01 03:00:00 0.66 0.02 0.61 1.60 0.01 22.75 22.46 0.80 64.06  36.65\n",
       "4 2001-08-01 04:00:00 0.47 0.04 0.41 1.00 0.02 31.59 34.77 0.47 60.82  25.82\n",
       "5 2001-08-01 05:00:00 0.60 0.04 0.67 1.68 0.01 30.94 32.51 0.74 65.56  31.10\n",
       "6 2001-08-01 06:00:00 0.52 0.09 0.46 1.27 0.01 66.67 78.04 0.59 41.65  26.64\n",
       "  PXY  SO_2 TCH  TOL   year month \n",
       "1 1.73 8.11 1.24 10.82 2001 August\n",
       "2 1.02 6.90 1.17  6.49 2001 August\n",
       "3 0.69 6.59 1.17  6.37 2001 August\n",
       "4 0.44 6.45 1.21  4.91 2001 August\n",
       "5 0.72 6.37 1.22  5.28 2001 August\n",
       "6 0.57 7.20 1.40  3.95 2001 August"
      ]
     },
     "metadata": {},
     "output_type": "display_data"
    }
   ],
   "source": [
    "madrid <- read_tsv(\"data/madrid_pollution.csv\")\n",
    "head(madrid)"
   ]
  },
  {
   "cell_type": "markdown",
   "id": "36ea5189-4266-43b3-a97a-84bcc73cd301",
   "metadata": {},
   "source": [
    "**Exercise 1**\n",
    "\n",
    "Calculate the average monthly value for each pollutant for each year and store that as a data frame. Your data frame should have the following 4 columns:\n",
    "\n",
    "1. `year`\n",
    "2. `month`\n",
    "3. `pollutant`\n",
    "4. `monthly_avg`\n",
    "\n",
    "Name your data frame `madrid_avg`."
   ]
  },
  {
   "cell_type": "markdown",
   "id": "80a09b15-1dba-47e4-a875-2cc14e6e8ec2",
   "metadata": {},
   "source": [
    "> **Steps to tackle this problem**  \n",
    "> 1) Since the table is unnecessarily wide, we must first look at all the similar columns which can be combined into one single column.  \n",
    "> 2) Next, we can select only those columns which we need.  \n",
    "> 3) Now we calculate the average monthly value for each pollutant for each year.  "
   ]
  },
  {
   "cell_type": "code",
   "execution_count": 79,
   "id": "188ac6cc-87c6-4751-bdba-52c7118680b3",
   "metadata": {},
   "outputs": [
    {
     "name": "stderr",
     "output_type": "stream",
     "text": [
      "`summarise()` has grouped output by 'year', 'month'. You can override using the `.groups` argument.\n",
      "\n"
     ]
    },
    {
     "data": {
      "text/html": [
       "<table class=\"dataframe\">\n",
       "<caption>A grouped_df: 1008 × 4</caption>\n",
       "<thead>\n",
       "\t<tr><th scope=col>year</th><th scope=col>month</th><th scope=col>pollutant</th><th scope=col>monthly_avg</th></tr>\n",
       "\t<tr><th scope=col>&lt;dbl&gt;</th><th scope=col>&lt;chr&gt;</th><th scope=col>&lt;chr&gt;</th><th scope=col>&lt;dbl&gt;</th></tr>\n",
       "</thead>\n",
       "<tbody>\n",
       "\t<tr><td>2001</td><td>April</td><td>BEN</td><td>2.2874583</td></tr>\n",
       "\t<tr><td>2001</td><td>April</td><td>CO </td><td>0.6336022</td></tr>\n",
       "\t<tr><td>2001</td><td>April</td><td>EBE</td><td>2.0522639</td></tr>\n",
       "\t<tr><td>⋮</td><td>⋮</td><td>⋮</td><td>⋮</td></tr>\n",
       "\t<tr><td>2006</td><td>September</td><td>SO_2</td><td>8.873421</td></tr>\n",
       "\t<tr><td>2006</td><td>September</td><td>TCH </td><td>     NaN</td></tr>\n",
       "\t<tr><td>2006</td><td>September</td><td>TOL </td><td>6.924126</td></tr>\n",
       "</tbody>\n",
       "</table>\n"
      ],
      "text/latex": [
       "A grouped\\_df: 1008 × 4\n",
       "\\begin{tabular}{llll}\n",
       " year & month & pollutant & monthly\\_avg\\\\\n",
       " <dbl> & <chr> & <chr> & <dbl>\\\\\n",
       "\\hline\n",
       "\t 2001 & April & BEN & 2.2874583\\\\\n",
       "\t 2001 & April & CO  & 0.6336022\\\\\n",
       "\t 2001 & April & EBE & 2.0522639\\\\\n",
       "\t ⋮ & ⋮ & ⋮ & ⋮\\\\\n",
       "\t 2006 & September & SO\\_2 & 8.873421\\\\\n",
       "\t 2006 & September & TCH  &      NaN\\\\\n",
       "\t 2006 & September & TOL  & 6.924126\\\\\n",
       "\\end{tabular}\n"
      ],
      "text/markdown": [
       "\n",
       "A grouped_df: 1008 × 4\n",
       "\n",
       "| year &lt;dbl&gt; | month &lt;chr&gt; | pollutant &lt;chr&gt; | monthly_avg &lt;dbl&gt; |\n",
       "|---|---|---|---|\n",
       "| 2001 | April | BEN | 2.2874583 |\n",
       "| 2001 | April | CO  | 0.6336022 |\n",
       "| 2001 | April | EBE | 2.0522639 |\n",
       "| ⋮ | ⋮ | ⋮ | ⋮ |\n",
       "| 2006 | September | SO_2 | 8.873421 |\n",
       "| 2006 | September | TCH  |      NaN |\n",
       "| 2006 | September | TOL  | 6.924126 |\n",
       "\n"
      ],
      "text/plain": [
       "     year month     pollutant monthly_avg\n",
       "1    2001 April     BEN       2.2874583  \n",
       "2    2001 April     CO        0.6336022  \n",
       "3    2001 April     EBE       2.0522639  \n",
       "<U+22EE>    <U+22EE> <U+22EE>  <U+22EE>  <U+22EE>   \n",
       "1006 2006 September SO_2      8.873421   \n",
       "1007 2006 September TCH            NaN   \n",
       "1008 2006 September TOL       6.924126   "
      ]
     },
     "metadata": {},
     "output_type": "display_data"
    }
   ],
   "source": [
    "# add code here\n",
    "madrid_avg <- madrid |> \n",
    "    pivot_longer(\n",
    "        cols = BEN:TOL,\n",
    "        names_to = \"pollutant\",\n",
    "        values_to = \"amount\") |>\n",
    "    select(-date) |>\n",
    "    group_by(year, month, pollutant) |>\n",
    "    summarize(monthly_avg = mean(amount, na.rm = TRUE))\n",
    "\n",
    "madrid_avg"
   ]
  },
  {
   "cell_type": "markdown",
   "id": "d2e43114-1a42-40a2-acf2-2642f90bb68f",
   "metadata": {},
   "source": [
    "**Exercise 2**\n",
    "\n",
    "* Now we will look at which pollutant decreased the most between 2001 - 2006 when we look at the average yearly values for each pollutant.\n",
    "* Your final result should be a data frame that has at least these two columns: `pollutant` and `yearly_avg_diff` and one row (the most decreased pollutant when looking at yearly average between 2001 - 2006). \n",
    "* Make sure to use the `madrid_avg` data frame in your solution."
   ]
  },
  {
   "cell_type": "markdown",
   "id": "3a2b76ad-bbcd-40e7-862f-4f4af954e00b",
   "metadata": {},
   "source": [
    "> **Steps to tackle this problem**  \n",
    "> 1) First we want to filter out all the rows for 2001 and 2006.  \n",
    "> 2) Next, we want to calculate the yearly average of each pollutant. For this, we will have to group by `year` and `pollutant`.  \n",
    "> 3) After grouping by `year` and `pollutant`, we need to use `summarize()` to calculate the yearly average for each pollutant.  \n",
    "> 4) Now we need to devise a way to subtract all the 2006 data from the 2001 data. To do this, it will be easier if we turn the year column into 2 separate columns: `2001` and `2006`. This way we can subtract one column from the other. `pivot_wider()` will help us.  \n",
    "> 5) Now that we have two different columns for each year, we can use `mutate()` to create a new column called `yearly_avg_diff` which is the result of subtracting the `2006` column from the `2001` column.  \n",
    "> 6) We can now select only those columns which we need.  \n",
    "> 7) Find out which row has the maximum difference. To do this, we can arrange our data in descending order and choose the first row using `slice(n=1)` which should give us the observation with the highest difference.  "
   ]
  },
  {
   "cell_type": "code",
   "execution_count": 81,
   "id": "76807b2e-bc40-4e79-b11c-718c5c2c40b1",
   "metadata": {},
   "outputs": [
    {
     "name": "stderr",
     "output_type": "stream",
     "text": [
      "`summarise()` has grouped output by 'year'. You can override using the `.groups` argument.\n",
      "\n"
     ]
    },
    {
     "data": {
      "text/html": [
       "<table class=\"dataframe\">\n",
       "<caption>A tibble: 1 × 2</caption>\n",
       "<thead>\n",
       "\t<tr><th scope=col>pollutant</th><th scope=col>yearly_avg_diff</th></tr>\n",
       "\t<tr><th scope=col>&lt;chr&gt;</th><th scope=col>&lt;dbl&gt;</th></tr>\n",
       "</thead>\n",
       "<tbody>\n",
       "\t<tr><td>NOx</td><td>50.30811</td></tr>\n",
       "</tbody>\n",
       "</table>\n"
      ],
      "text/latex": [
       "A tibble: 1 × 2\n",
       "\\begin{tabular}{ll}\n",
       " pollutant & yearly\\_avg\\_diff\\\\\n",
       " <chr> & <dbl>\\\\\n",
       "\\hline\n",
       "\t NOx & 50.30811\\\\\n",
       "\\end{tabular}\n"
      ],
      "text/markdown": [
       "\n",
       "A tibble: 1 × 2\n",
       "\n",
       "| pollutant &lt;chr&gt; | yearly_avg_diff &lt;dbl&gt; |\n",
       "|---|---|\n",
       "| NOx | 50.30811 |\n",
       "\n"
      ],
      "text/plain": [
       "  pollutant yearly_avg_diff\n",
       "1 NOx       50.30811       "
      ]
     },
     "metadata": {},
     "output_type": "display_data"
    }
   ],
   "source": [
    "### add code here\n",
    "madrid_avg |> \n",
    "    filter(year == 2001 | year == 2006) |> \n",
    "    group_by(year, pollutant) |> \n",
    "    summarize(yearly_avg = mean(monthly_avg, na.rm = TRUE)) |> \n",
    "    pivot_wider(names_from = year,\n",
    "                values_from = yearly_avg) |> \n",
    "    mutate(yearly_avg_diff = `2001` - `2006`) |> \n",
    "    select(pollutant, yearly_avg_diff) |> \n",
    "    arrange(desc(yearly_avg_diff)) |> \n",
    "    slice(n=1)"
   ]
  },
  {
   "cell_type": "markdown",
   "id": "d5f04b7d-1f1c-40cb-b1d1-779769a8384b",
   "metadata": {},
   "source": [
    "## Chapter 4: Effective Data Visualization"
   ]
  },
  {
   "cell_type": "markdown",
   "id": "8994a517-b21a-4052-9575-ebbb0a84dd34",
   "metadata": {},
   "source": [
    "### 4.0 Important packages for chapter 4.0\n",
    "___"
   ]
  },
  {
   "cell_type": "markdown",
   "id": "ee99cc0b-9c67-4cb0-9414-70e3eff85160",
   "metadata": {},
   "source": [
    "* `ggplot2`\n",
    "    * Part of the `tidyverse` metapackage. (if you load tidyverse you do not need to load this package)\n",
    "    * This package is allows you to create all sorts of visualizations of data."
   ]
  },
  {
   "cell_type": "markdown",
   "id": "89e8379c-8688-4d57-a08d-8d8776b4e956",
   "metadata": {},
   "source": [
    "* `RColorBrewer`\n",
    "    * This package is provides the ability to pick custom colour schemes some of which are also colourblind friendly."
   ]
  },
  {
   "cell_type": "markdown",
   "id": "9880f2dd-fafd-4644-9eb5-3320570ff30c",
   "metadata": {},
   "source": [
    "* `lubridate`\n",
    "    * Part of the `tidyverse` metapackage. (You still need to load this package individually)\n",
    "    * This package is a tool to convert character strings to date vectors."
   ]
  },
  {
   "cell_type": "markdown",
   "id": "aaf425d0-a666-4ae0-a24c-0797b9174228",
   "metadata": {
    "tags": []
   },
   "source": [
    "### 4.1 Rules of thumb for choosing visualizations :\n",
    "___"
   ]
  },
  {
   "cell_type": "markdown",
   "id": "90c3e369-4bba-4333-9cb2-f71a61866d94",
   "metadata": {},
   "source": [
    "> With the visualizations covered in this chapter, we will be able to answer only descriptive and exploratory questions.  \n",
    "> Be careful NOT to answer any predictive, inferential, causal or mechanistic questions with the visualizations presented here!"
   ]
  },
  {
   "cell_type": "markdown",
   "id": "1bf2d377-f40b-4c4c-b624-8b479d805c4f",
   "metadata": {},
   "source": [
    "* **LINEPLOTS** visualize trends with respect to an independent, ordered quantity (e.g. time)\n",
    "* **HISTOGRAM** visualize the distribution of one quantitative variable (i.e., all its possible values and how often they occur)\n",
    "* **SCATTERPLOTS** visualize the distribution/relationship of two quantitative variables\n",
    "* **BARPLOTS** visualize comparisons of amounts"
   ]
  },
  {
   "cell_type": "markdown",
   "id": "d97bf78f-60d3-49e3-84e4-abbb5208bd14",
   "metadata": {},
   "source": [
    "### 4.2 Refine the above visualizations using:\n",
    "___"
   ]
  },
  {
   "cell_type": "markdown",
   "id": "1c186196-16bf-4ec0-8c3d-2de39a8cd2a4",
   "metadata": {},
   "source": [
    "<u>Geometric Objects<u>\n",
    "* `geom_point()`, `geom_line()`, `geom_histogram()`, `geom_bar()`, `geom_vline()`, `geom_hline()`"
   ]
  },
  {
   "cell_type": "markdown",
   "id": "e0105214-fb58-498e-bf77-d0e517bdc2cd",
   "metadata": {},
   "source": [
    "<u>Scales:<u>\n",
    "* `scale_x_continuous()`, `scale_y_continuous()`"
   ]
  },
  {
   "cell_type": "markdown",
   "id": "3cc6dd1e-5b1f-4d3b-8d56-c7896210eb47",
   "metadata": {},
   "source": [
    "<u>Aesthetic Mappings:<u>\n",
    "* `x`, `y`, `fill`, `colour`, `shape`"
   ]
  },
  {
   "cell_type": "markdown",
   "id": "227e0054-2e5d-4e6f-875e-0b5d52198b08",
   "metadata": {},
   "source": [
    "<u>Labelling:<u>\n",
    "* `xlab()`, `ylab()`, `labs()`"
   ]
  },
  {
   "cell_type": "markdown",
   "id": "97458b3a-e825-437e-a409-02485dcaa5ff",
   "metadata": {},
   "source": [
    "<u>Font control and Legend positioning:<u>\n",
    "* `theme()`"
   ]
  },
  {
   "cell_type": "markdown",
   "id": "f932e236-16fa-4252-bb7a-0e7035c930c1",
   "metadata": {},
   "source": [
    "<u>Flipping axes:<u>\n",
    "* `coord_flip()`"
   ]
  },
  {
   "cell_type": "markdown",
   "id": "47addaf7-0fbe-47b5-bf2a-953bd7d49fe5",
   "metadata": {},
   "source": [
    "<u>Subplots:<u>\n",
    "* `facet_grid()`"
   ]
  },
  {
   "cell_type": "markdown",
   "id": "25fd8ac0-49b2-4e7d-9905-820ab57c7099",
   "metadata": {},
   "source": [
    "### 4.3 Rules of thumb for effective graphs :\n",
    "___\n",
    "\n",
    "1) <u>Convey The Message:<u>\n",
    "\n",
    "* Use legends and labels so that your visualization is understandable without reading the surrounding text.\n",
    "* Ensure the text, symbols, lines, etc., on your visualization are big enough to be easily read.\n",
    "* Ensure the data are clearly visible; don’t hide the shape/distribution of the data behind other objects.\n",
    "* Redundancy can be helpful; sometimes conveying the same message in multiple ways reinforces it for the audience.\n",
    "* Use colours for colourblind people.\n",
    "\n",
    "2) <u>Minimze Noise:<u>\n",
    "\n",
    "* Use colours sparingly. Too many different colours can be distracting, create false patterns, and detract from the message.\n",
    "* Be vary of over-plotting. Alpha sets the transparency of points on a scatter plot, and increasing transparencing of points is one tool you can use to deal with over plotting issues."
   ]
  },
  {
   "cell_type": "markdown",
   "id": "9af6d26f-fead-4516-8b18-50a87332b891",
   "metadata": {},
   "source": [
    "### 4.4 Basic functions used to aid data visualizations and how they work\n",
    "___"
   ]
  },
  {
   "cell_type": "markdown",
   "id": "3c059cb5-412c-4945-8396-df18d7977152",
   "metadata": {},
   "source": [
    "* `options(repr.plot.width = ..., repr.plot.height = ...)` \n",
    "    * The 1st argument requires you to input the width of the plot.\n",
    "    * The 2nd argument requires you to input the height of the plot.\n",
    "    * `width = 9`, `height = 7` works good on a 13 inch display\n",
    "    * You usually want to put this line at the start of the coding block."
   ]
  },
  {
   "cell_type": "markdown",
   "id": "7bde5801-a1ce-4fd6-8e99-8a9e182fe3df",
   "metadata": {},
   "source": [
    "* `n()`\n",
    "    * number of rows/observations in the data\n",
    "    * usually used like `group_by()` + `summarize(n = n())` to give you the count of the rows for each group."
   ]
  },
  {
   "cell_type": "markdown",
   "id": "57772892-b40f-4bfc-99f2-3bf26e536667",
   "metadata": {},
   "source": [
    "* `top_n(dataframe, n, col_name)`\n",
    "    * chooses the top `n` values of the selected column"
   ]
  },
  {
   "cell_type": "markdown",
   "id": "0559cfe1-ca1f-426b-a61c-e5b6aef78ad7",
   "metadata": {},
   "source": [
    "* `semi_join(df1, df2)`\n",
    "    * gives intersection of 2 dataframes\n",
    "    * all columns of `df1` are kept while only the columns of `df2` which match with that of `df1` are kept.\n",
    "    * the intersection of the same columns is done filtering out the respective rows from `df1`."
   ]
  },
  {
   "cell_type": "markdown",
   "id": "3c0d09dc-240b-4dd8-8f3e-b3e4ab1426e7",
   "metadata": {},
   "source": [
    "* `ifelse(condition, true_value, false_value)`\n",
    "    * E.g. `mutate(islands_top12, is_continent = ifelse(landmass %in% continents, \"Continent\", \"Other\"))`"
   ]
  },
  {
   "cell_type": "markdown",
   "id": "121fbb9c-f337-44ef-b008-0cf20b71c97a",
   "metadata": {},
   "source": [
    "* `pull(column_name)`\n",
    "    * pulls out the column of a dataframe in the form of a vector/array list.\n",
    "    * Code Example: \n",
    "```\n",
    "restaurants_in_st <- name_st_n %>% \n",
    "                        group_by(st) %>% \n",
    "                        summarize(total_restaurants = sum(n)) %>% \n",
    "                        arrange(total_restaurants) %>% \n",
    "                        pull(st)\n",
    "```"
   ]
  },
  {
   "cell_type": "markdown",
   "id": "729abf3a-4a34-4368-9ac4-c5557ac3bff6",
   "metadata": {},
   "source": [
    "* `factor(col_name, levels = c(..., ..., ...))`\n",
    "    * This is used to encode a vector as a factor; it allows you to specify the values, and whether they are ordered or not."
   ]
  },
  {
   "cell_type": "markdown",
   "id": "6e6da39c-7812-48eb-bb6e-2ab2cdd2ddf5",
   "metadata": {},
   "source": [
    "* `as.factor()`\n",
    "    * Simply coerces an existing vector to a factor, if possible."
   ]
  },
  {
   "cell_type": "markdown",
   "id": "0efd757f-0eff-479e-8826-91da76679f55",
   "metadata": {},
   "source": [
    "* `slice_max(data, order_by = ..., n = ...)`\n",
    "    * `data`: what data frame we are looking at\n",
    "    * `order_by`: which parameter value we select to order, default is largest first\n",
    "    * `n`: number of rows selected to be left\n",
    "    * This function is used to select only the top `n` data rows ordered by some column from a data frame to generate a new data frame"
   ]
  },
  {
   "cell_type": "markdown",
   "id": "eadf96f8-afef-4c04-8294-23413ff11496",
   "metadata": {},
   "source": [
    "### 4.5 `ggplot()`\n",
    "___"
   ]
  },
  {
   "cell_type": "markdown",
   "id": "026f4c22-a3ed-4292-9f1d-fafdb0d8b503",
   "metadata": {},
   "source": [
    "### 4.5.1 Basics"
   ]
  },
  {
   "cell_type": "markdown",
   "id": "27c918e1-0ef6-4c07-9774-c92376a51ec4",
   "metadata": {},
   "source": [
    "* `ggplot(data, aes(x = , y =  , ...)) + geom_...() + ...`\n",
    "    * ggplot takes two arguments.\n",
    "    * The 1st argument requires you to input the dataframe that you want to visualize.\n",
    "    * The 2nd argument requires an aethetic parameter that you would address the properties of the visualization with.\n",
    "    * After the ggplot function, different layers are **added** to the plot using `+` instead of the pipe operator `%<%` to enhance the visualization."
   ]
  },
  {
   "cell_type": "markdown",
   "id": "4b29b3fb-a7fa-46b0-881e-df573202f083",
   "metadata": {},
   "source": [
    "* `aes()`\n",
    "    * `x = ` : assign variable to x-axis.\n",
    "    * `y = ` : assign variable to y-axis.\n",
    "    * `color = ` : assign different colors by factors of the *categorical variable* you input in this argument.\n",
    "    * `shape = ` : assign different shapes by factors of the *categorical variable* you input in this argument. \n",
    "    * `fill = ` : (for geom_histogram and geom_bar) what parameter (factor) is used to color the bars"
   ]
  },
  {
   "cell_type": "markdown",
   "id": "d4b5c7ac-3a00-4119-8be2-8c1ced1aae72",
   "metadata": {},
   "source": [
    "> ***Note:*** \n",
    ">* `fill` and `color` can also be used outside of the `aes()` function. This is done when you want to manually assign a colour to your points/bars/lines.\n",
    ">* Anything you define in the `aes()` function MUST be labelled in the `labs()` function."
   ]
  },
  {
   "cell_type": "markdown",
   "id": "4b74c535-bad7-45da-9970-1de51689bd2b",
   "metadata": {},
   "source": [
    "* `geom_...()`\n",
    "    * `geom_point()` : Scatter plot\n",
    "    * `geom_line()` : Line plot\n",
    "    * `geom_bar(...)` : Bar plot\n",
    "        * `geom_bar(stat = \"identity\")` tells ggplot2 that you will provide the y-values for the barplot, rather than counting the aggregate number of rows for each x value, which is the default `stat = \"count\"`\n",
    "    * `geom_histogram()`: Histogram\n",
    "    * `geom_vline(...)`: To draw a vertical line (i.e. for showing true value on the plot)\n",
    "        * `geom_vline(xintercept = ..., linetype = \"dashed\", size = 1)`"
   ]
  },
  {
   "cell_type": "markdown",
   "id": "bdd2c733-71cb-448c-a2ca-cd14c5a32036",
   "metadata": {},
   "source": [
    "* `...`\n",
    "    * `xlab()`: x-axis label\n",
    "    * `ylab()` : y-axis label\n",
    "    * `xlim()`: set the scale limits for the x-axis\n",
    "    * `ylim()`: set the scale limits for the y-axis\n",
    "    * `theme(text = element_text(size = 20))` : Changes the font size in plots. A good starting point is 20.\n",
    "    * `theme(axis.text.x = element_text(angle = 90, hjust = 1))`: \n",
    "        * rotates x-axis labels by 90 degrees. \n",
    "        * `hjust = 1` ensures labels don't sit on top of the bars as you rotate them. \n",
    "        * You can change these number to see how it effects the plot. `hjust = 1` ensures labels don't sit on top of the bars as you rotate them. You can change the number to see how it effects the plot.\n",
    "    * `scale_x_log10`: scale the x values to log scale.\n",
    "    * `scale_y_log10`: scale the y values to log scale.\n",
    "    * `coord_flip()` : swaps `x` and `y` coordinate axes. This is done to give more space to labels on the `x` axis."
   ]
  },
  {
   "cell_type": "markdown",
   "id": "7b5996f9-6292-4ef7-8662-f511f218a943",
   "metadata": {},
   "source": [
    "### 4.5.2 `facet_grid()`"
   ]
  },
  {
   "cell_type": "markdown",
   "id": "652bc002-d0fc-4fdd-8d0f-d0ed30852001",
   "metadata": {},
   "source": [
    "Facets divide a plot into subplots based on the values of one or more discrete variables.\n",
    "- To facet into rows based on your discrete variable, use `rows = vars(colname)` argument \n",
    "- To facet into columns based on your discrete variable, use `cols = vars(colname)` argument\n",
    "**Note**: the column name must be wrapped by the `vars()`"
   ]
  },
  {
   "cell_type": "code",
   "execution_count": 82,
   "id": "cac86440-c357-485b-933c-6b1b536abbfd",
   "metadata": {},
   "outputs": [
    {
     "name": "stderr",
     "output_type": "stream",
     "text": [
      "`stat_bin()` using `bins = 30`. Pick better value with `binwidth`.\n",
      "\n",
      "`stat_bin()` using `bins = 30`. Pick better value with `binwidth`.\n",
      "\n"
     ]
    },
    {
     "data": {
      "image/png": "[encoded data removed]",
      "text/plain": [
       "plot without title"
      ]
     },
     "metadata": {
      "image/png": {
       "height": 420,
       "width": 780
      }
     },
     "output_type": "display_data"
    },
    {
     "data": {
      "image/png": "[encoded data removed]",
      "text/plain": [
       "plot without title"
      ]
     },
     "metadata": {
      "image/png": {
       "height": 420,
       "width": 780
      }
     },
     "output_type": "display_data"
    }
   ],
   "source": [
    "# display horizontally\n",
    "morley_hist <- ggplot(morley, aes(x = Speed, fill = as_factor(Expt))) +\n",
    "  geom_histogram() +\n",
    "  facet_grid(rows = vars(Expt)) +\n",
    "  geom_vline(xintercept = 792.458, linetype = \"dashed\", size = 1.0)\n",
    "\n",
    "morley_hist\n",
    "\n",
    "# display vertically\n",
    "morley_hist2 <- ggplot(morley, aes(x = Speed, fill = as_factor(Expt))) +\n",
    "  geom_histogram() +\n",
    "  facet_grid(cols = vars(Expt)) +\n",
    "  geom_vline(xintercept = 792.458, linetype = \"dashed\", size = 1.0)\n",
    "\n",
    "morley_hist2"
   ]
  },
  {
   "cell_type": "markdown",
   "id": "6be7e805-bedb-42e5-b1c6-9b97e4814b69",
   "metadata": {},
   "source": [
    "### 4.5.3 `fct_reorder()`"
   ]
  },
  {
   "cell_type": "markdown",
   "id": "cced7894-911e-445a-a3b8-4eed1998d5f5",
   "metadata": {},
   "source": [
    "Reorder parameter values according to some parameter. (Often used within `aes()` function) \n",
    "- The first parameter in `fct_reorder` defines the column to be reordered.\n",
    "- The second parameter is the criteria used for ordering.\n",
    "- The `fct_reorder` function uses **ascending** order by default, we can change to descending by setting `.desc = TRUE`"
   ]
  },
  {
   "cell_type": "markdown",
   "id": "8e5800e1-2f7d-4c4e-a2d0-8554f294109b",
   "metadata": {},
   "source": [
    "E.g. `aes(..., y = fct_reorder(landmass, size, .desc = TRUE),...)` This sort column of landmass by their size in a descending order "
   ]
  },
  {
   "cell_type": "markdown",
   "id": "40ad2249-ffc6-41cd-b5f5-25677da8e955",
   "metadata": {},
   "source": [
    "### 4.5.4 Important properties of `fill` and `color` in the `aes()` function:"
   ]
  },
  {
   "cell_type": "markdown",
   "id": "6088d388-8d62-4118-8a04-5c61bb7b6bbb",
   "metadata": {},
   "source": [
    "* `fill = `\n",
    "    * With `geom_bar()`/`geom_histogram()`, this aesthetic **fills in the bars** by a specific colour or separates the counts by a variable different from the x-axis.  \n",
    "$~$\n",
    "* `color = `\n",
    "    * With `geom_bar()`/`geom_histogram(),  this aesthetic **outlines the bars** by a specific colour or separates the counts by a variable different from the x-axis.\n",
    "    * With `geom_point()`, it **fills in the points** (colouring them based on a particular *(categorical)* variable aside from the x/y-axis)  "
   ]
  },
  {
   "cell_type": "markdown",
   "id": "7fb9a424-dd89-4e57-b8a8-babba7da9b4e",
   "metadata": {},
   "source": [
    "### 4.6 Review exercises for data visualizations\n",
    "___"
   ]
  },
  {
   "cell_type": "code",
   "execution_count": 16,
   "id": "581fb0ee-3f72-498b-8147-5c3bb771c687",
   "metadata": {},
   "outputs": [
    {
     "name": "stderr",
     "output_type": "stream",
     "text": [
      "\u001b[1mRows: \u001b[22m\u001b[34m10000\u001b[39m \u001b[1mColumns: \u001b[22m\u001b[34m2\u001b[39m\n",
      "\n",
      "\u001b[36m--\u001b[39m \u001b[1mColumn specification\u001b[22m \u001b[36m------------------------------------------------------------------------------------------------\u001b[39m\n",
      "\u001b[1mDelimiter:\u001b[22m \",\"\n",
      "\u001b[31mchr\u001b[39m (2): name, st\n",
      "\n",
      "\n",
      "\u001b[36mi\u001b[39m Use \u001b[30m\u001b[47m\u001b[30m\u001b[47m`spec()`\u001b[47m\u001b[30m\u001b[49m\u001b[39m to retrieve the full column specification for this data.\n",
      "\u001b[36mi\u001b[39m Specify the column types or set \u001b[30m\u001b[47m\u001b[30m\u001b[47m`show_col_types = FALSE`\u001b[47m\u001b[30m\u001b[49m\u001b[39m to quiet this message.\n",
      "\n"
     ]
    },
    {
     "data": {
      "text/html": [
       "<table class=\"dataframe\">\n",
       "<caption>A spec_tbl_df: 10000 × 2</caption>\n",
       "<thead>\n",
       "\t<tr><th scope=col>name</th><th scope=col>st</th></tr>\n",
       "\t<tr><th scope=col>&lt;chr&gt;</th><th scope=col>&lt;chr&gt;</th></tr>\n",
       "</thead>\n",
       "<tbody>\n",
       "\t<tr><td>McDonald's      </td><td>NY</td></tr>\n",
       "\t<tr><td>Wendy's         </td><td>OH</td></tr>\n",
       "\t<tr><td>Frisch's Big Boy</td><td>KY</td></tr>\n",
       "\t<tr><td>⋮</td><td>⋮</td></tr>\n",
       "\t<tr><td>Five Guys    </td><td>CO</td></tr>\n",
       "\t<tr><td>El Pollo Loco</td><td>CA</td></tr>\n",
       "\t<tr><td>Carl's Jr.   </td><td>CA</td></tr>\n",
       "</tbody>\n",
       "</table>\n"
      ],
      "text/latex": [
       "A spec\\_tbl\\_df: 10000 × 2\n",
       "\\begin{tabular}{ll}\n",
       " name & st\\\\\n",
       " <chr> & <chr>\\\\\n",
       "\\hline\n",
       "\t McDonald's       & NY\\\\\n",
       "\t Wendy's          & OH\\\\\n",
       "\t Frisch's Big Boy & KY\\\\\n",
       "\t ⋮ & ⋮\\\\\n",
       "\t Five Guys     & CO\\\\\n",
       "\t El Pollo Loco & CA\\\\\n",
       "\t Carl's Jr.    & CA\\\\\n",
       "\\end{tabular}\n"
      ],
      "text/markdown": [
       "\n",
       "A spec_tbl_df: 10000 × 2\n",
       "\n",
       "| name &lt;chr&gt; | st &lt;chr&gt; |\n",
       "|---|---|\n",
       "| McDonald's       | NY |\n",
       "| Wendy's          | OH |\n",
       "| Frisch's Big Boy | KY |\n",
       "| ⋮ | ⋮ |\n",
       "| Five Guys     | CO |\n",
       "| El Pollo Loco | CA |\n",
       "| Carl's Jr.    | CA |\n",
       "\n"
      ],
      "text/plain": [
       "      name             st\n",
       "1     McDonald's       NY\n",
       "2     Wendy's          OH\n",
       "3     Frisch's Big Boy KY\n",
       "<U+22EE>     <U+22EE>         <U+22EE>\n",
       "9998  Five Guys        CO\n",
       "9999  El Pollo Loco    CA\n",
       "10000 Carl's Jr.       CA"
      ]
     },
     "metadata": {},
     "output_type": "display_data"
    }
   ],
   "source": [
    "fast_food <- read_csv(\"data/fast_food.csv\")\n",
    "fast_food"
   ]
  },
  {
   "cell_type": "markdown",
   "id": "00977547-8f34-42a9-b51b-ce894c6a0a5a",
   "metadata": {},
   "source": [
    "**Exercise 1**\n",
    "\n",
    "Display the top 5 restaurants (by count) on a bar plot where:\n",
    "1. The bar plot has horizontal bars.\n",
    "2. The restaurant with the greatest number of counts should be on top and the one with lowest should be on the bottom.\n",
    "\n",
    "Name your data frame `restaurant_counts`."
   ]
  },
  {
   "cell_type": "code",
   "execution_count": 85,
   "id": "d41d4ec5-546f-4fa6-ad08-8f3e709e66fd",
   "metadata": {},
   "outputs": [
    {
     "data": {
      "image/png": "[encoded data removed]",
      "text/plain": [
       "plot without title"
      ]
     },
     "metadata": {
      "image/png": {
       "height": 420,
       "width": 780
      }
     },
     "output_type": "display_data"
    }
   ],
   "source": [
    "options(repr.plot.width = 13, repr.plot.height = 7)\n",
    "\n",
    "restaurant_counts <- fast_food |> \n",
    "    group_by(name) |> \n",
    "    summarize(counts = n()) |>\n",
    "    slice_max(order_by = counts, n = 5) |>\n",
    "    ggplot(aes(x = fct_reorder(name, counts),\n",
    "               y = counts,\n",
    "               fill = name)) +\n",
    "    geom_bar(stat = 'identity') +\n",
    "    coord_flip() +\n",
    "    labs(x = \"Restaurants\", y = \"Counts\", fill = \"Restaurants\") +\n",
    "    theme(text = element_text(size = 20))\n",
    "\n",
    "restaurant_counts"
   ]
  },
  {
   "cell_type": "markdown",
   "id": "7fa03cc2-f6a6-468f-9a50-85e5b9d2788b",
   "metadata": {},
   "source": [
    "**How to save a plot as a `.png`/`.jpg`/`.bmp`/`.tiff`/`.svg` file on your workspace**\n",
    "* `ggsave(\"dataframe_plot.png\", dataframe)`\n",
    "    * replace .png with .jpg/.bmp/.tiff/.svg  for different formats\n",
    "    * saves plot in folder.\n",
    "  \n",
    "  \n",
    "* `print(paste(\"PNG filesize: \", file.info(\"faithful_plot.png\")[\"size\"] / 1000000, \"MB\"))`\n",
    "    * replace PNG with JPG/BMP/TIFF/SVG\n",
    "    * checks size of file."
   ]
  }
 ],
 "metadata": {
  "kernelspec": {
   "display_name": "R",
   "language": "R",
   "name": "ir"
  },
  "language_info": {
   "codemirror_mode": "r",
   "file_extension": ".r",
   "mimetype": "text/x-r-source",
   "name": "R",
   "pygments_lexer": "r",
   "version": "4.1.1"
  }
 },
 "nbformat": 4,
 "nbformat_minor": 5
}
